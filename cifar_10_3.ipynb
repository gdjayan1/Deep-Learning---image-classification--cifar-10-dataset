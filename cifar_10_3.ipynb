{
 "cells": [
  {
   "cell_type": "markdown",
   "metadata": {},
   "source": [
    "##  Model performance with different activation function"
   ]
  },
  {
   "cell_type": "code",
   "execution_count": 1,
   "metadata": {},
   "outputs": [
    {
     "name": "stderr",
     "output_type": "stream",
     "text": [
      "Using TensorFlow backend.\n"
     ]
    }
   ],
   "source": [
    "import pickle\n",
    "import matplotlib.pyplot as plt\n",
    "import numpy as np\n",
    "import pandas as pd\n",
    "from keras.models import Sequential\n",
    "from keras.layers import Conv2D\n",
    "from keras.layers import MaxPooling2D\n",
    "from keras.layers import Flatten, BatchNormalization\n",
    "from keras.layers import Dense, Dropout\n",
    "from keras import regularizers\n",
    "from keras.optimizers import SGD\n",
    "from keras.preprocessing.image import ImageDataGenerator\n",
    "from keras.utils import np_utils\n",
    "import keras\n",
    "\n",
    "\n",
    "def load_train_data(n):\n",
    "    with open('data_batch_'+ str(n), 'rb') as file:\n",
    "        batch = pickle.load(file, encoding='latin1')\n",
    "\n",
    "    features = batch['data']\n",
    "    Target = batch['labels']\n",
    "    return features, Target\n",
    "\n",
    "\n",
    "batch_1, Target_1 = load_train_data(1)\n",
    "batch_2, Target_2 = load_train_data(2)\n",
    "batch_3, Target_3 = load_train_data(3)\n",
    "batch_4, Target_4 = load_train_data(4)\n",
    "batch_5, Target_5 = load_train_data(5)\n",
    "\n",
    "\n",
    "with open('test_batch', 'rb') as file:\n",
    "    batch = pickle.load(file, encoding='latin1')\n",
    "X_test = batch['data']\n",
    "y_test = batch['labels']\n",
    "\n",
    "\n",
    "X_train = np.append(batch_1, batch_2,axis=0)\n",
    "X_train = np.append(X_train, batch_3,axis=0)\n",
    "X_train = np.append(X_train, batch_4,axis=0)\n",
    "X_train = np.append(X_train, batch_5,axis=0)\n",
    "y_train = np.append(Target_1, Target_2,axis=0)\n",
    "y_train = np.append(y_train, Target_3,axis=0)\n",
    "y_train = np.append(y_train, Target_4,axis=0)\n",
    "y_train = np.append(y_train, Target_5,axis=0)\n",
    "X_train = X_train.reshape((len(X_train), 3, 32, 32)).transpose(0,2,3,1)\n",
    "y_train = np_utils.to_categorical(y_train, 10)\n",
    "X_test = X_test.reshape((len(X_test), 3, 32, 32)).transpose(0,2,3,1)\n",
    "y_test = np_utils.to_categorical(y_test, 10)\n",
    "X_train = X_train.astype('float32')\n",
    "X_test= X_test.astype('float32')\n",
    "X_train= X_train / 255.0\n",
    "X_test= X_test/ 255.0"
   ]
  },
  {
   "cell_type": "markdown",
   "metadata": {},
   "source": [
    "# Model 7\n",
    "Lets check the performance of the model with different activation function\n",
    "1. Activation function - tanh"
   ]
  },
  {
   "cell_type": "code",
   "execution_count": 2,
   "metadata": {},
   "outputs": [
    {
     "name": "stdout",
     "output_type": "stream",
     "text": [
      "WARNING:tensorflow:From C:\\Users\\Dhanajayan\\Anaconda3\\lib\\site-packages\\tensorflow\\python\\framework\\op_def_library.py:263: colocate_with (from tensorflow.python.framework.ops) is deprecated and will be removed in a future version.\n",
      "Instructions for updating:\n",
      "Colocations handled automatically by placer.\n",
      "_________________________________________________________________\n",
      "Layer (type)                 Output Shape              Param #   \n",
      "=================================================================\n",
      "conv2d_1 (Conv2D)            (None, 30, 30, 64)        1792      \n",
      "_________________________________________________________________\n",
      "conv2d_2 (Conv2D)            (None, 28, 28, 64)        36928     \n",
      "_________________________________________________________________\n",
      "max_pooling2d_1 (MaxPooling2 (None, 14, 14, 64)        0         \n",
      "_________________________________________________________________\n",
      "conv2d_3 (Conv2D)            (None, 12, 12, 64)        36928     \n",
      "_________________________________________________________________\n",
      "conv2d_4 (Conv2D)            (None, 10, 10, 64)        36928     \n",
      "_________________________________________________________________\n",
      "max_pooling2d_2 (MaxPooling2 (None, 5, 5, 64)          0         \n",
      "_________________________________________________________________\n",
      "conv2d_5 (Conv2D)            (None, 3, 3, 64)          36928     \n",
      "_________________________________________________________________\n",
      "max_pooling2d_3 (MaxPooling2 (None, 1, 1, 64)          0         \n",
      "_________________________________________________________________\n",
      "flatten_1 (Flatten)          (None, 64)                0         \n",
      "_________________________________________________________________\n",
      "dense_1 (Dense)              (None, 128)               8320      \n",
      "_________________________________________________________________\n",
      "dense_2 (Dense)              (None, 10)                1290      \n",
      "=================================================================\n",
      "Total params: 159,114\n",
      "Trainable params: 159,114\n",
      "Non-trainable params: 0\n",
      "_________________________________________________________________\n"
     ]
    }
   ],
   "source": [
    "model7 = Sequential()\n",
    "model7.add(Conv2D(64, (3, 3), activation='tanh',kernel_initializer='he_normal',kernel_regularizer=regularizers.l2(0.001), input_shape=(32, 32, 3)))\n",
    "model7.add(Conv2D(64, (3, 3), activation='tanh',kernel_initializer='he_normal',kernel_regularizer=regularizers.l2(0.001)))\n",
    "model7.add(MaxPooling2D((2, 2)))\n",
    "model7.add(Conv2D(64, (3, 3), activation='tanh',kernel_initializer='he_normal',kernel_regularizer=regularizers.l2(0.001)))\n",
    "model7.add(Conv2D(64, (3, 3), activation='tanh',kernel_initializer='he_normal',kernel_regularizer=regularizers.l2(0.001)))\n",
    "model7.add(MaxPooling2D((2, 2)))\n",
    "model7.add(Conv2D(64, (3, 3), activation='tanh',kernel_initializer='he_normal',kernel_regularizer=regularizers.l2(0.001)))\n",
    "model7.add(MaxPooling2D((2, 2)))\n",
    "model7.add(Flatten())\n",
    "model7.add(Dense(128, activation='tanh'))\n",
    "model7.add(Dense(10, activation='softmax'))\n",
    "model7.summary()"
   ]
  },
  {
   "cell_type": "code",
   "execution_count": 4,
   "metadata": {},
   "outputs": [
    {
     "name": "stdout",
     "output_type": "stream",
     "text": [
      "WARNING:tensorflow:From C:\\Users\\Dhanajayan\\Anaconda3\\lib\\site-packages\\tensorflow\\python\\ops\\math_ops.py:3066: to_int32 (from tensorflow.python.ops.math_ops) is deprecated and will be removed in a future version.\n",
      "Instructions for updating:\n",
      "Use tf.cast instead.\n",
      "Epoch 1/10\n",
      "50000/50000 [==============================] - 314s 6ms/step - loss: 2.2085 - acc: 0.3831\n",
      "Epoch 2/10\n",
      "50000/50000 [==============================] - 329s 7ms/step - loss: 1.6649 - acc: 0.5655\n",
      "Epoch 3/10\n",
      "50000/50000 [==============================] - 357s 7ms/step - loss: 1.4640 - acc: 0.6237\n",
      "Epoch 4/10\n",
      "50000/50000 [==============================] - 365s 7ms/step - loss: 1.3423 - acc: 0.6588\n",
      "Epoch 5/10\n",
      "50000/50000 [==============================] - 396s 8ms/step - loss: 1.2575 - acc: 0.6838\n",
      "Epoch 6/10\n",
      "50000/50000 [==============================] - 398s 8ms/step - loss: 1.1922 - acc: 0.7048\n",
      "Epoch 7/10\n",
      "50000/50000 [==============================] - 416s 8ms/step - loss: 1.1362 - acc: 0.7189\n",
      "Epoch 8/10\n",
      "50000/50000 [==============================] - 418s 8ms/step - loss: 1.0973 - acc: 0.7305\n",
      "Epoch 9/10\n",
      "50000/50000 [==============================] - 418s 8ms/step - loss: 1.0587 - acc: 0.7438\n",
      "Epoch 10/10\n",
      "50000/50000 [==============================] - 419s 8ms/step - loss: 1.0247 - acc: 0.7510\n"
     ]
    },
    {
     "data": {
      "text/plain": [
       "<keras.callbacks.History at 0x1de8fe663c8>"
      ]
     },
     "execution_count": 4,
     "metadata": {},
     "output_type": "execute_result"
    }
   ],
   "source": [
    "epochs = 10\n",
    "sgd = SGD(lr=1e-2, momentum=0.9, decay=1e-2/epochs)\n",
    "model7.compile(optimizer=sgd, loss='categorical_crossentropy', metrics=['accuracy'])\n",
    "model7.fit(X_train,y_train,epochs=epochs,batch_size = 32)"
   ]
  },
  {
   "cell_type": "code",
   "execution_count": 6,
   "metadata": {},
   "outputs": [
    {
     "name": "stdout",
     "output_type": "stream",
     "text": [
      "10000/10000 [==============================] - 38s 4ms/step\n"
     ]
    },
    {
     "data": {
      "text/plain": [
       "0.6786"
      ]
     },
     "execution_count": 6,
     "metadata": {},
     "output_type": "execute_result"
    }
   ],
   "source": [
    "test_loss,test_acc = model7.evaluate(X_test,y_test)\n",
    "test_acc"
   ]
  },
  {
   "cell_type": "markdown",
   "metadata": {},
   "source": [
    "# Obeservation \n",
    "* tanh performs bad than Relu activation in terms of speed and accuracy"
   ]
  },
  {
   "cell_type": "markdown",
   "metadata": {},
   "source": [
    "# Model 8\n",
    "* activation function Elu"
   ]
  },
  {
   "cell_type": "code",
   "execution_count": 8,
   "metadata": {},
   "outputs": [
    {
     "name": "stdout",
     "output_type": "stream",
     "text": [
      "_________________________________________________________________\n",
      "Layer (type)                 Output Shape              Param #   \n",
      "=================================================================\n",
      "conv2d_11 (Conv2D)           (None, 30, 30, 64)        1792      \n",
      "_________________________________________________________________\n",
      "conv2d_12 (Conv2D)           (None, 28, 28, 64)        36928     \n",
      "_________________________________________________________________\n",
      "max_pooling2d_7 (MaxPooling2 (None, 14, 14, 64)        0         \n",
      "_________________________________________________________________\n",
      "conv2d_13 (Conv2D)           (None, 12, 12, 64)        36928     \n",
      "_________________________________________________________________\n",
      "conv2d_14 (Conv2D)           (None, 10, 10, 64)        36928     \n",
      "_________________________________________________________________\n",
      "max_pooling2d_8 (MaxPooling2 (None, 5, 5, 64)          0         \n",
      "_________________________________________________________________\n",
      "conv2d_15 (Conv2D)           (None, 3, 3, 64)          36928     \n",
      "_________________________________________________________________\n",
      "max_pooling2d_9 (MaxPooling2 (None, 1, 1, 64)          0         \n",
      "_________________________________________________________________\n",
      "flatten_3 (Flatten)          (None, 64)                0         \n",
      "_________________________________________________________________\n",
      "dense_5 (Dense)              (None, 128)               8320      \n",
      "_________________________________________________________________\n",
      "dense_6 (Dense)              (None, 10)                1290      \n",
      "=================================================================\n",
      "Total params: 159,114\n",
      "Trainable params: 159,114\n",
      "Non-trainable params: 0\n",
      "_________________________________________________________________\n"
     ]
    }
   ],
   "source": [
    "model8 = Sequential()\n",
    "model8.add(Conv2D(64, (3, 3), activation='elu',kernel_initializer='he_normal',kernel_regularizer=regularizers.l2(0.001), input_shape=(32, 32, 3)))\n",
    "model8.add(Conv2D(64, (3, 3), activation='elu',kernel_initializer='he_normal',kernel_regularizer=regularizers.l2(0.001)))\n",
    "model8.add(MaxPooling2D((2, 2)))\n",
    "model8.add(Conv2D(64, (3, 3), activation='elu',kernel_initializer='he_normal',kernel_regularizer=regularizers.l2(0.001)))\n",
    "model8.add(Conv2D(64, (3, 3), activation='elu',kernel_initializer='he_normal',kernel_regularizer=regularizers.l2(0.001)))\n",
    "model8.add(MaxPooling2D((2, 2)))\n",
    "model8.add(Conv2D(64, (3, 3), activation='elu',kernel_initializer='he_normal',kernel_regularizer=regularizers.l2(0.001)))\n",
    "model8.add(MaxPooling2D((2, 2)))\n",
    "model8.add(Flatten())\n",
    "model8.add(Dense(128, activation='elu'))\n",
    "model8.add(Dense(10, activation='softmax'))\n",
    "model8.summary()"
   ]
  },
  {
   "cell_type": "code",
   "execution_count": 9,
   "metadata": {},
   "outputs": [
    {
     "name": "stdout",
     "output_type": "stream",
     "text": [
      "Epoch 1/10\n",
      "50000/50000 [==============================] - 404s 8ms/step - loss: 2.0755 - acc: 0.4462\n",
      "Epoch 2/10\n",
      "50000/50000 [==============================] - 405s 8ms/step - loss: 1.5509 - acc: 0.6118\n",
      "Epoch 3/10\n",
      "50000/50000 [==============================] - 400s 8ms/step - loss: 1.3608 - acc: 0.6678\n",
      "Epoch 4/10\n",
      "50000/50000 [==============================] - 401s 8ms/step - loss: 1.2410 - acc: 0.7036\n",
      "Epoch 5/10\n",
      "50000/50000 [==============================] - 403s 8ms/step - loss: 1.1574 - acc: 0.7273\n",
      "Epoch 6/10\n",
      "50000/50000 [==============================] - 400s 8ms/step - loss: 1.0916 - acc: 0.7453\n",
      "Epoch 7/10\n",
      "50000/50000 [==============================] - 403s 8ms/step - loss: 1.0422 - acc: 0.7603\n",
      "Epoch 8/10\n",
      "50000/50000 [==============================] - 412s 8ms/step - loss: 0.9968 - acc: 0.7753\n",
      "Epoch 9/10\n",
      "50000/50000 [==============================] - 405s 8ms/step - loss: 0.9592 - acc: 0.7865\n",
      "Epoch 10/10\n",
      "50000/50000 [==============================] - 376s 8ms/step - loss: 0.9264 - acc: 0.7946\n"
     ]
    },
    {
     "data": {
      "text/plain": [
       "<keras.callbacks.History at 0x1defe47b6d8>"
      ]
     },
     "execution_count": 9,
     "metadata": {},
     "output_type": "execute_result"
    }
   ],
   "source": [
    "epochs = 10\n",
    "sgd = SGD(lr=1e-2, momentum=0.9, decay=1e-2/epochs)\n",
    "model8.compile(optimizer=sgd, loss='categorical_crossentropy', metrics=['accuracy'])\n",
    "model8.fit(X_train,y_train,epochs=epochs,batch_size = 32)"
   ]
  },
  {
   "cell_type": "code",
   "execution_count": 10,
   "metadata": {},
   "outputs": [
    {
     "name": "stdout",
     "output_type": "stream",
     "text": [
      "10000/10000 [==============================] - 34s 3ms/step\n"
     ]
    },
    {
     "data": {
      "text/plain": [
       "0.6786"
      ]
     },
     "execution_count": 10,
     "metadata": {},
     "output_type": "execute_result"
    }
   ],
   "source": [
    "test_loss,test_acc = model7.evaluate(X_test,y_test)\n",
    "test_acc"
   ]
  },
  {
   "cell_type": "markdown",
   "metadata": {},
   "source": [
    "# Observation\n",
    "The activation function 'elu' had more training efficiency but it tooks long computation and overfits the data.\n",
    "Therefore will consider Relu activation for further models"
   ]
  },
  {
   "cell_type": "code",
   "execution_count": null,
   "metadata": {},
   "outputs": [],
   "source": []
  }
 ],
 "metadata": {
  "kernelspec": {
   "display_name": "Python 3",
   "language": "python",
   "name": "python3"
  },
  "language_info": {
   "codemirror_mode": {
    "name": "ipython",
    "version": 3
   },
   "file_extension": ".py",
   "mimetype": "text/x-python",
   "name": "python",
   "nbconvert_exporter": "python",
   "pygments_lexer": "ipython3",
   "version": "3.7.1"
  }
 },
 "nbformat": 4,
 "nbformat_minor": 2
}
