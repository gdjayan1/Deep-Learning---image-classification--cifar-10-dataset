{
 "cells": [
  {
   "cell_type": "markdown",
   "metadata": {},
   "source": [
    "## Model Performance with different optimizers"
   ]
  },
  {
   "cell_type": "code",
   "execution_count": 1,
   "metadata": {},
   "outputs": [
    {
     "name": "stderr",
     "output_type": "stream",
     "text": [
      "Using TensorFlow backend.\n"
     ]
    }
   ],
   "source": [
    "import pickle\n",
    "import matplotlib.pyplot as plt\n",
    "import numpy as np\n",
    "import pandas as pd\n",
    "from keras.models import Sequential\n",
    "from keras.layers import Conv2D\n",
    "from keras.layers import MaxPooling2D\n",
    "from keras.layers import Flatten, BatchNormalization\n",
    "from keras.layers import Dense, Dropout\n",
    "from keras import regularizers\n",
    "from keras.optimizers import SGD\n",
    "from keras.preprocessing.image import ImageDataGenerator\n",
    "from keras.utils import np_utils\n",
    "import keras\n",
    "\n",
    "\n",
    "def load_train_data(n):\n",
    "    with open('data_batch_'+ str(n), 'rb') as file:\n",
    "        batch = pickle.load(file, encoding='latin1')\n",
    "\n",
    "    features = batch['data']\n",
    "    Target = batch['labels']\n",
    "    return features, Target\n",
    "\n",
    "\n",
    "batch_1, Target_1 = load_train_data(1)\n",
    "batch_2, Target_2 = load_train_data(2)\n",
    "batch_3, Target_3 = load_train_data(3)\n",
    "batch_4, Target_4 = load_train_data(4)\n",
    "batch_5, Target_5 = load_train_data(5)\n",
    "\n",
    "\n",
    "with open('test_batch', 'rb') as file:\n",
    "    batch = pickle.load(file, encoding='latin1')\n",
    "X_test = batch['data']\n",
    "y_test = batch['labels']\n",
    "\n",
    "\n",
    "X_train = np.append(batch_1, batch_2,axis=0)\n",
    "X_train = np.append(X_train, batch_3,axis=0)\n",
    "X_train = np.append(X_train, batch_4,axis=0)\n",
    "X_train = np.append(X_train, batch_5,axis=0)\n",
    "y_train = np.append(Target_1, Target_2,axis=0)\n",
    "y_train = np.append(y_train, Target_3,axis=0)\n",
    "y_train = np.append(y_train, Target_4,axis=0)\n",
    "y_train = np.append(y_train, Target_5,axis=0)\n",
    "X_train = X_train.reshape((len(X_train), 3, 32, 32)).transpose(0,2,3,1)\n",
    "y_train = np_utils.to_categorical(y_train, 10)\n",
    "X_test = X_test.reshape((len(X_test), 3, 32, 32)).transpose(0,2,3,1)\n",
    "y_test = np_utils.to_categorical(y_test, 10)\n",
    "X_train = X_train.astype('float32')\n",
    "X_test= X_test.astype('float32')\n",
    "X_train= X_train / 255.0\n",
    "X_test= X_test/ 255.0"
   ]
  },
  {
   "cell_type": "markdown",
   "metadata": {},
   "source": [
    "## Model 14\n",
    "optimizer - rmsprop"
   ]
  },
  {
   "cell_type": "code",
   "execution_count": 3,
   "metadata": {},
   "outputs": [
    {
     "name": "stdout",
     "output_type": "stream",
     "text": [
      "_________________________________________________________________\n",
      "Layer (type)                 Output Shape              Param #   \n",
      "=================================================================\n",
      "conv2d_8 (Conv2D)            (None, 32, 32, 64)        1792      \n",
      "_________________________________________________________________\n",
      "conv2d_9 (Conv2D)            (None, 32, 32, 64)        36928     \n",
      "_________________________________________________________________\n",
      "max_pooling2d_6 (MaxPooling2 (None, 16, 16, 64)        0         \n",
      "_________________________________________________________________\n",
      "conv2d_10 (Conv2D)           (None, 16, 16, 64)        36928     \n",
      "_________________________________________________________________\n",
      "conv2d_11 (Conv2D)           (None, 16, 16, 64)        36928     \n",
      "_________________________________________________________________\n",
      "max_pooling2d_7 (MaxPooling2 (None, 8, 8, 64)          0         \n",
      "_________________________________________________________________\n",
      "conv2d_12 (Conv2D)           (None, 8, 8, 64)          36928     \n",
      "_________________________________________________________________\n",
      "max_pooling2d_8 (MaxPooling2 (None, 4, 4, 64)          0         \n",
      "_________________________________________________________________\n",
      "conv2d_13 (Conv2D)           (None, 4, 4, 64)          36928     \n",
      "_________________________________________________________________\n",
      "max_pooling2d_9 (MaxPooling2 (None, 2, 2, 64)          0         \n",
      "_________________________________________________________________\n",
      "conv2d_14 (Conv2D)           (None, 2, 2, 64)          36928     \n",
      "_________________________________________________________________\n",
      "max_pooling2d_10 (MaxPooling (None, 1, 1, 64)          0         \n",
      "_________________________________________________________________\n",
      "flatten_2 (Flatten)          (None, 64)                0         \n",
      "_________________________________________________________________\n",
      "dense_3 (Dense)              (None, 128)               8320      \n",
      "_________________________________________________________________\n",
      "dropout_2 (Dropout)          (None, 128)               0         \n",
      "_________________________________________________________________\n",
      "dense_4 (Dense)              (None, 10)                1290      \n",
      "=================================================================\n",
      "Total params: 232,970\n",
      "Trainable params: 232,970\n",
      "Non-trainable params: 0\n",
      "_________________________________________________________________\n"
     ]
    }
   ],
   "source": [
    "model14 = Sequential()\n",
    "model14.add(Conv2D(64, (3, 3), activation='relu',kernel_initializer='he_normal',padding = 'same', input_shape=(32, 32, 3)))\n",
    "model14.add(Conv2D(64, (3, 3), activation='relu',kernel_initializer='he_normal',padding = 'same'))\n",
    "model14.add(MaxPooling2D((2, 2)))\n",
    "model14.add(Conv2D(64, (3, 3), activation='relu',kernel_initializer='he_normal',padding = 'same'))\n",
    "model14.add(Conv2D(64, (3, 3), activation='relu',kernel_initializer='he_normal',padding = 'same'))\n",
    "model14.add(MaxPooling2D((2, 2)))\n",
    "model14.add(Conv2D(64, (3, 3), activation='relu',kernel_initializer='he_normal',padding = 'same'))\n",
    "model14.add(MaxPooling2D((2, 2)))\n",
    "model14.add(Conv2D(64, (3, 3), activation='relu',kernel_initializer='he_normal',padding = 'same'))\n",
    "model14.add(MaxPooling2D((2, 2)))\n",
    "model14.add(Conv2D(64, (3, 3), activation='relu',kernel_initializer='he_normal',padding = 'same'))\n",
    "model14.add(MaxPooling2D((2, 2)))\n",
    "model14.add(Flatten())\n",
    "model14.add(Dense(128, activation='relu'))\n",
    "model14.add(Dropout(rate = 0.6))\n",
    "model14.add(Dense(10, activation='softmax'))\n",
    "model14.summary()"
   ]
  },
  {
   "cell_type": "code",
   "execution_count": 4,
   "metadata": {},
   "outputs": [
    {
     "name": "stdout",
     "output_type": "stream",
     "text": [
      "WARNING:tensorflow:From C:\\Users\\Dhanajayan\\Anaconda3\\lib\\site-packages\\tensorflow\\python\\ops\\math_ops.py:3066: to_int32 (from tensorflow.python.ops.math_ops) is deprecated and will be removed in a future version.\n",
      "Instructions for updating:\n",
      "Use tf.cast instead.\n",
      "Epoch 1/10\n",
      "50000/50000 [==============================] - 421s 8ms/step - loss: 1.6985 - acc: 0.3741\n",
      "Epoch 2/10\n",
      "50000/50000 [==============================] - 418s 8ms/step - loss: 1.1729 - acc: 0.5898\n",
      "Epoch 3/10\n",
      "50000/50000 [==============================] - 427s 9ms/step - loss: 0.9993 - acc: 0.6619\n",
      "Epoch 4/10\n",
      "50000/50000 [==============================] - 424s 8ms/step - loss: 0.9477 - acc: 0.6864\n",
      "Epoch 5/10\n",
      "50000/50000 [==============================] - 392s 8ms/step - loss: 0.9542 - acc: 0.6911\n",
      "Epoch 6/10\n",
      "50000/50000 [==============================] - 397s 8ms/step - loss: 1.0142 - acc: 0.6796\n",
      "Epoch 7/10\n",
      "50000/50000 [==============================] - 401s 8ms/step - loss: 1.1021 - acc: 0.6576\n",
      "Epoch 8/10\n",
      "50000/50000 [==============================] - 400s 8ms/step - loss: 1.1915 - acc: 0.6339\n",
      "Epoch 9/10\n",
      "50000/50000 [==============================] - 408s 8ms/step - loss: 1.2524 - acc: 0.6171\n",
      "Epoch 10/10\n",
      "50000/50000 [==============================] - 463s 9ms/step - loss: 1.3475 - acc: 0.5955\n"
     ]
    },
    {
     "data": {
      "text/plain": [
       "<keras.callbacks.History at 0x2512e3f82b0>"
      ]
     },
     "execution_count": 4,
     "metadata": {},
     "output_type": "execute_result"
    }
   ],
   "source": [
    "epochs = 10\n",
    "model14.compile(optimizer='rmsprop', loss='categorical_crossentropy', metrics=['accuracy'])\n",
    "model14.fit(X_train,y_train,epochs=epochs,batch_size = 32)"
   ]
  },
  {
   "cell_type": "code",
   "execution_count": 5,
   "metadata": {},
   "outputs": [
    {
     "name": "stdout",
     "output_type": "stream",
     "text": [
      "10000/10000 [==============================] - 38s 4ms/step\n"
     ]
    },
    {
     "data": {
      "text/plain": [
       "0.6292"
      ]
     },
     "execution_count": 5,
     "metadata": {},
     "output_type": "execute_result"
    }
   ],
   "source": [
    "test_loss,test_acc = model14.evaluate(X_test,y_test)\n",
    "test_acc"
   ]
  },
  {
   "cell_type": "markdown",
   "metadata": {},
   "source": [
    "# Observation \n",
    "In the above model the optimizer rmsprop not performed well as expected"
   ]
  },
  {
   "cell_type": "markdown",
   "metadata": {},
   "source": [
    "## Model 15\n",
    "optimizer - adam"
   ]
  },
  {
   "cell_type": "code",
   "execution_count": 6,
   "metadata": {},
   "outputs": [
    {
     "name": "stdout",
     "output_type": "stream",
     "text": [
      "_________________________________________________________________\n",
      "Layer (type)                 Output Shape              Param #   \n",
      "=================================================================\n",
      "conv2d_15 (Conv2D)           (None, 32, 32, 64)        1792      \n",
      "_________________________________________________________________\n",
      "conv2d_16 (Conv2D)           (None, 32, 32, 64)        36928     \n",
      "_________________________________________________________________\n",
      "max_pooling2d_11 (MaxPooling (None, 16, 16, 64)        0         \n",
      "_________________________________________________________________\n",
      "conv2d_17 (Conv2D)           (None, 16, 16, 64)        36928     \n",
      "_________________________________________________________________\n",
      "conv2d_18 (Conv2D)           (None, 16, 16, 64)        36928     \n",
      "_________________________________________________________________\n",
      "max_pooling2d_12 (MaxPooling (None, 8, 8, 64)          0         \n",
      "_________________________________________________________________\n",
      "conv2d_19 (Conv2D)           (None, 8, 8, 64)          36928     \n",
      "_________________________________________________________________\n",
      "max_pooling2d_13 (MaxPooling (None, 4, 4, 64)          0         \n",
      "_________________________________________________________________\n",
      "conv2d_20 (Conv2D)           (None, 4, 4, 64)          36928     \n",
      "_________________________________________________________________\n",
      "max_pooling2d_14 (MaxPooling (None, 2, 2, 64)          0         \n",
      "_________________________________________________________________\n",
      "conv2d_21 (Conv2D)           (None, 2, 2, 64)          36928     \n",
      "_________________________________________________________________\n",
      "max_pooling2d_15 (MaxPooling (None, 1, 1, 64)          0         \n",
      "_________________________________________________________________\n",
      "flatten_3 (Flatten)          (None, 64)                0         \n",
      "_________________________________________________________________\n",
      "dense_5 (Dense)              (None, 128)               8320      \n",
      "_________________________________________________________________\n",
      "dropout_3 (Dropout)          (None, 128)               0         \n",
      "_________________________________________________________________\n",
      "dense_6 (Dense)              (None, 10)                1290      \n",
      "=================================================================\n",
      "Total params: 232,970\n",
      "Trainable params: 232,970\n",
      "Non-trainable params: 0\n",
      "_________________________________________________________________\n"
     ]
    }
   ],
   "source": [
    "model15 = Sequential()\n",
    "model15.add(Conv2D(64, (3, 3), activation='relu',kernel_initializer='he_normal',padding = 'same', input_shape=(32, 32, 3)))\n",
    "model15.add(Conv2D(64, (3, 3), activation='relu',kernel_initializer='he_normal',padding = 'same'))\n",
    "model15.add(MaxPooling2D((2, 2)))\n",
    "model15.add(Conv2D(64, (3, 3), activation='relu',kernel_initializer='he_normal',padding = 'same'))\n",
    "model15.add(Conv2D(64, (3, 3), activation='relu',kernel_initializer='he_normal',padding = 'same'))\n",
    "model15.add(MaxPooling2D((2, 2)))\n",
    "model15.add(Conv2D(64, (3, 3), activation='relu',kernel_initializer='he_normal',padding = 'same'))\n",
    "model15.add(MaxPooling2D((2, 2)))\n",
    "model15.add(Conv2D(64, (3, 3), activation='relu',kernel_initializer='he_normal',padding = 'same'))\n",
    "model15.add(MaxPooling2D((2, 2)))\n",
    "model15.add(Conv2D(64, (3, 3), activation='relu',kernel_initializer='he_normal',padding = 'same'))\n",
    "model15.add(MaxPooling2D((2, 2)))\n",
    "model15.add(Flatten())\n",
    "model15.add(Dense(128, activation='relu'))\n",
    "model15.add(Dropout(rate = 0.6))\n",
    "model15.add(Dense(10, activation='softmax'))\n",
    "model15.summary()"
   ]
  },
  {
   "cell_type": "code",
   "execution_count": 7,
   "metadata": {},
   "outputs": [
    {
     "name": "stdout",
     "output_type": "stream",
     "text": [
      "Epoch 1/10\n",
      "50000/50000 [==============================] - 463s 9ms/step - loss: 1.6815 - acc: 0.3767\n",
      "Epoch 2/10\n",
      "50000/50000 [==============================] - 463s 9ms/step - loss: 1.1605 - acc: 0.5887\n",
      "Epoch 3/10\n",
      "50000/50000 [==============================] - 463s 9ms/step - loss: 0.9534 - acc: 0.6736\n",
      "Epoch 4/10\n",
      "50000/50000 [==============================] - 456s 9ms/step - loss: 0.8250 - acc: 0.7199\n",
      "Epoch 5/10\n",
      "50000/50000 [==============================] - 457s 9ms/step - loss: 0.7360 - acc: 0.7537\n",
      "Epoch 6/10\n",
      "50000/50000 [==============================] - 472s 9ms/step - loss: 0.6739 - acc: 0.7756\n",
      "Epoch 7/10\n",
      "50000/50000 [==============================] - 449s 9ms/step - loss: 0.6259 - acc: 0.7907\n",
      "Epoch 8/10\n",
      "50000/50000 [==============================] - 378s 8ms/step - loss: 0.5763 - acc: 0.8080\n",
      "Epoch 9/10\n",
      "50000/50000 [==============================] - 362s 7ms/step - loss: 0.5425 - acc: 0.8201\n",
      "Epoch 10/10\n",
      "50000/50000 [==============================] - 376s 8ms/step - loss: 0.5054 - acc: 0.8319\n"
     ]
    },
    {
     "data": {
      "text/plain": [
       "<keras.callbacks.History at 0x2513a0cab38>"
      ]
     },
     "execution_count": 7,
     "metadata": {},
     "output_type": "execute_result"
    }
   ],
   "source": [
    "epochs = 10\n",
    "model15.compile(optimizer='adam', loss='categorical_crossentropy', metrics=['accuracy'])\n",
    "model15.fit(X_train,y_train,epochs=epochs,batch_size = 32)"
   ]
  },
  {
   "cell_type": "code",
   "execution_count": 8,
   "metadata": {},
   "outputs": [
    {
     "name": "stdout",
     "output_type": "stream",
     "text": [
      "10000/10000 [==============================] - 38s 4ms/step\n"
     ]
    },
    {
     "data": {
      "text/plain": [
       "0.7611"
      ]
     },
     "execution_count": 8,
     "metadata": {},
     "output_type": "execute_result"
    }
   ],
   "source": [
    "test_loss,test_acc = model15.evaluate(X_test,y_test)\n",
    "test_acc"
   ]
  },
  {
   "cell_type": "markdown",
   "metadata": {},
   "source": [
    "## Model 16\n",
    "optimizer - adam with 0.7 dropout rate"
   ]
  },
  {
   "cell_type": "code",
   "execution_count": 10,
   "metadata": {},
   "outputs": [
    {
     "name": "stdout",
     "output_type": "stream",
     "text": [
      "_________________________________________________________________\n",
      "Layer (type)                 Output Shape              Param #   \n",
      "=================================================================\n",
      "conv2d_22 (Conv2D)           (None, 32, 32, 64)        1792      \n",
      "_________________________________________________________________\n",
      "conv2d_23 (Conv2D)           (None, 32, 32, 64)        36928     \n",
      "_________________________________________________________________\n",
      "max_pooling2d_16 (MaxPooling (None, 16, 16, 64)        0         \n",
      "_________________________________________________________________\n",
      "conv2d_24 (Conv2D)           (None, 16, 16, 64)        36928     \n",
      "_________________________________________________________________\n",
      "conv2d_25 (Conv2D)           (None, 16, 16, 64)        36928     \n",
      "_________________________________________________________________\n",
      "max_pooling2d_17 (MaxPooling (None, 8, 8, 64)          0         \n",
      "_________________________________________________________________\n",
      "conv2d_26 (Conv2D)           (None, 8, 8, 64)          36928     \n",
      "_________________________________________________________________\n",
      "max_pooling2d_18 (MaxPooling (None, 4, 4, 64)          0         \n",
      "_________________________________________________________________\n",
      "conv2d_27 (Conv2D)           (None, 4, 4, 64)          36928     \n",
      "_________________________________________________________________\n",
      "max_pooling2d_19 (MaxPooling (None, 2, 2, 64)          0         \n",
      "_________________________________________________________________\n",
      "conv2d_28 (Conv2D)           (None, 2, 2, 64)          36928     \n",
      "_________________________________________________________________\n",
      "max_pooling2d_20 (MaxPooling (None, 1, 1, 64)          0         \n",
      "_________________________________________________________________\n",
      "flatten_4 (Flatten)          (None, 64)                0         \n",
      "_________________________________________________________________\n",
      "dense_7 (Dense)              (None, 128)               8320      \n",
      "_________________________________________________________________\n",
      "dropout_4 (Dropout)          (None, 128)               0         \n",
      "_________________________________________________________________\n",
      "dense_8 (Dense)              (None, 10)                1290      \n",
      "=================================================================\n",
      "Total params: 232,970\n",
      "Trainable params: 232,970\n",
      "Non-trainable params: 0\n",
      "_________________________________________________________________\n"
     ]
    }
   ],
   "source": [
    "model16 = Sequential()\n",
    "model16.add(Conv2D(64, (3, 3), activation='relu',kernel_initializer='he_normal',padding = 'same', input_shape=(32, 32, 3)))\n",
    "model16.add(Conv2D(64, (3, 3), activation='relu',kernel_initializer='he_normal',padding = 'same'))\n",
    "model16.add(MaxPooling2D((2, 2)))\n",
    "model16.add(Conv2D(64, (3, 3), activation='relu',kernel_initializer='he_normal',padding = 'same'))\n",
    "model16.add(Conv2D(64, (3, 3), activation='relu',kernel_initializer='he_normal',padding = 'same'))\n",
    "model16.add(MaxPooling2D((2, 2)))\n",
    "model16.add(Conv2D(64, (3, 3), activation='relu',kernel_initializer='he_normal',padding = 'same'))\n",
    "model16.add(MaxPooling2D((2, 2)))\n",
    "model16.add(Conv2D(64, (3, 3), activation='relu',kernel_initializer='he_normal',padding = 'same'))\n",
    "model16.add(MaxPooling2D((2, 2)))\n",
    "model16.add(Conv2D(64, (3, 3), activation='relu',kernel_initializer='he_normal',padding = 'same'))\n",
    "model16.add(MaxPooling2D((2, 2)))\n",
    "model16.add(Flatten())\n",
    "model16.add(Dense(128, activation='relu'))\n",
    "model16.add(Dropout(rate = 0.7))\n",
    "model16.add(Dense(10, activation='softmax'))\n",
    "model16.summary()"
   ]
  },
  {
   "cell_type": "code",
   "execution_count": 11,
   "metadata": {},
   "outputs": [
    {
     "name": "stdout",
     "output_type": "stream",
     "text": [
      "Epoch 1/10\n",
      "50000/50000 [==============================] - 347s 7ms/step - loss: 1.7212 - acc: 0.3608\n",
      "Epoch 2/10\n",
      "50000/50000 [==============================] - 391s 8ms/step - loss: 1.2334 - acc: 0.5646\n",
      "Epoch 3/10\n",
      "50000/50000 [==============================] - 370s 7ms/step - loss: 1.0350 - acc: 0.6443\n",
      "Epoch 4/10\n",
      "50000/50000 [==============================] - 394s 8ms/step - loss: 0.9073 - acc: 0.6932\n",
      "Epoch 5/10\n",
      "50000/50000 [==============================] - 351s 7ms/step - loss: 0.8090 - acc: 0.7313\n",
      "Epoch 6/10\n",
      "50000/50000 [==============================] - 352s 7ms/step - loss: 0.7399 - acc: 0.7558\n",
      "Epoch 7/10\n",
      "50000/50000 [==============================] - 377s 8ms/step - loss: 0.6818 - acc: 0.7762\n",
      "Epoch 8/10\n",
      "50000/50000 [==============================] - 396s 8ms/step - loss: 0.6335 - acc: 0.7906\n",
      "Epoch 9/10\n",
      "50000/50000 [==============================] - 349s 7ms/step - loss: 0.5927 - acc: 0.8048\n",
      "Epoch 10/10\n",
      "50000/50000 [==============================] - 404s 8ms/step - loss: 0.5594 - acc: 0.8154\n"
     ]
    },
    {
     "data": {
      "text/plain": [
       "<keras.callbacks.History at 0x251718dfe48>"
      ]
     },
     "execution_count": 11,
     "metadata": {},
     "output_type": "execute_result"
    }
   ],
   "source": [
    "epochs = 10\n",
    "model16.compile(optimizer='adam', loss='categorical_crossentropy', metrics=['accuracy'])\n",
    "model16.fit(X_train,y_train,epochs=epochs,batch_size = 32)"
   ]
  },
  {
   "cell_type": "code",
   "execution_count": 12,
   "metadata": {},
   "outputs": [
    {
     "name": "stdout",
     "output_type": "stream",
     "text": [
      "10000/10000 [==============================] - 31s 3ms/step\n"
     ]
    },
    {
     "data": {
      "text/plain": [
       "0.7503"
      ]
     },
     "execution_count": 12,
     "metadata": {},
     "output_type": "execute_result"
    }
   ],
   "source": [
    "test_loss,test_acc = model16.evaluate(X_test,y_test)\n",
    "test_acc"
   ]
  },
  {
   "cell_type": "markdown",
   "metadata": {},
   "source": [
    "# Observation \n",
    "The optimizer adam and sgd almost performing the same and the overfitting is controlled by the selection of dropout rate."
   ]
  },
  {
   "cell_type": "code",
   "execution_count": null,
   "metadata": {},
   "outputs": [],
   "source": []
  }
 ],
 "metadata": {
  "kernelspec": {
   "display_name": "Python 3",
   "language": "python",
   "name": "python3"
  },
  "language_info": {
   "codemirror_mode": {
    "name": "ipython",
    "version": 3
   },
   "file_extension": ".py",
   "mimetype": "text/x-python",
   "name": "python",
   "nbconvert_exporter": "python",
   "pygments_lexer": "ipython3",
   "version": "3.7.1"
  }
 },
 "nbformat": 4,
 "nbformat_minor": 2
}
