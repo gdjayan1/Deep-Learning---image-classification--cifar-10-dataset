{
 "cells": [
  {
   "cell_type": "markdown",
   "metadata": {},
   "source": [
    "\n",
    "<h1 align=\"center\"> $\\color{red}{\\text{Cifar-10 dataset - image classification}}$ </h1> \n",
    "<img src=\"labels.PNG\">\n",
    "\n",
    "The CIFAR-10 dataset consists of 60000 32x32 colour images in 10 classes, with 6000 images per class. There are 50000 training images and 10000 test images.\n",
    "\n",
    "**0-airplane** \t\t\t\t\t\t\t\t\t\t\n",
    "**1-automobile**\t\t\t\t\t\t\t\t\t\t\n",
    "**2-bird** \t\t\t\t\t\t\t\t\t\t\n",
    "**3-cat** \t\t\t\t\t\t\t\t\t\t\n",
    "**4-deer** \t\t\t\t\t\t\t\t\t\t\n",
    "**5-dog** \t\t\t\t\t\t\t\t\t\t\n",
    "**6-frog** \t\t\t\t\t\t\t\t\t\t\n",
    "**7-horse** \t\t\t\t\t\t\t\t\t\t\n",
    "**8-ship** \t\t\t\t\t\t\t\t\t\t\n",
    "**9-truck** \t\t\t\t\t\t\t\t\t\t\n"
   ]
  },
  {
   "cell_type": "markdown",
   "metadata": {},
   "source": [
    "### $\\color{#A0dd00}{\\text{1.Import libraries}}$ \n"
   ]
  },
  {
   "cell_type": "code",
   "execution_count": 1,
   "metadata": {},
   "outputs": [
    {
     "name": "stderr",
     "output_type": "stream",
     "text": [
      "Using TensorFlow backend.\n"
     ]
    }
   ],
   "source": [
    "import pickle\n",
    "import matplotlib.pyplot as plt\n",
    "import numpy as np\n",
    "import pandas as pd\n",
    "from keras.models import Sequential\n",
    "from keras.layers import Conv2D\n",
    "from keras.layers import MaxPooling2D\n",
    "from keras.layers import Flatten\n",
    "from keras.layers import Dense, Dropout\n",
    "from keras import regularizers\n",
    "from keras.optimizers import SGD\n",
    "from keras.preprocessing.image import ImageDataGenerator\n",
    "from keras.utils import np_utils\n",
    "import keras"
   ]
  },
  {
   "cell_type": "markdown",
   "metadata": {},
   "source": [
    "### $\\color{#AAdd00}{\\text{2.Load data}}$ \n"
   ]
  },
  {
   "cell_type": "code",
   "execution_count": 2,
   "metadata": {},
   "outputs": [],
   "source": [
    "def load_train_data(n):\n",
    "    with open('data_batch_'+ str(n), 'rb') as file:\n",
    "        batch = pickle.load(file, encoding='latin1')\n",
    "\n",
    "    features = batch['data']\n",
    "    Target = batch['labels']\n",
    "    return features, Target"
   ]
  },
  {
   "cell_type": "code",
   "execution_count": 3,
   "metadata": {},
   "outputs": [],
   "source": [
    "batch_1, Target_1 = load_train_data(1)\n",
    "batch_2, Target_2 = load_train_data(2)\n",
    "batch_3, Target_3 = load_train_data(3)\n",
    "batch_4, Target_4 = load_train_data(4)\n",
    "batch_5, Target_5 = load_train_data(5)"
   ]
  },
  {
   "cell_type": "code",
   "execution_count": 4,
   "metadata": {},
   "outputs": [
    {
     "name": "stdout",
     "output_type": "stream",
     "text": [
      "train batch data shape are (10000, 3072) (10000, 3072) (10000, 3072) (10000, 3072) (10000, 3072)\n",
      "\n",
      "train label data shape are 10000 10000 10000 10000 10000\n"
     ]
    }
   ],
   "source": [
    "print('train batch data shape are',batch_1.shape,batch_2.shape,batch_3.shape,batch_4.shape,batch_5.shape)\n",
    "print()\n",
    "print('train label data shape are',len(Target_1),len(Target_2),len(Target_3),len(Target_4),len(Target_5))"
   ]
  },
  {
   "cell_type": "code",
   "execution_count": null,
   "metadata": {},
   "outputs": [],
   "source": []
  },
  {
   "cell_type": "code",
   "execution_count": 5,
   "metadata": {},
   "outputs": [
    {
     "name": "stdout",
     "output_type": "stream",
     "text": [
      "test batch data and label data shape are (10000, 3072) 10000\n"
     ]
    }
   ],
   "source": [
    "with open('test_batch', 'rb') as file:\n",
    "    batch = pickle.load(file, encoding='latin1')\n",
    "X_test = batch['data']\n",
    "y_test = batch['labels']\n",
    "print('test batch data and label data shape are',X_test.shape,len(y_test))"
   ]
  },
  {
   "cell_type": "markdown",
   "metadata": {},
   "source": [
    "### $\\color{#FFdd00}{\\text{ 3.Image Plotting}}$ \n"
   ]
  },
  {
   "cell_type": "code",
   "execution_count": 6,
   "metadata": {},
   "outputs": [],
   "source": [
    "def plot_image(batch,labels,num):\n",
    "    images =batch.reshape((len(batch), 3, 32, 32)).transpose(0,2,3,1)\n",
    "    dict = {0:'Airplane', 1:'Automobile', 2:'Bird', 3:'Cat', 4:'Deer', 5:'Dog', 6:'Frog', 7:'Horse', 8:'Ship', 9:'Truck'}\n",
    "    fig = plt.figure(figsize = (2,2))\n",
    "    plt.imshow(images[num])\n",
    "    plt.title(dict[labels[num]])"
   ]
  },
  {
   "cell_type": "code",
   "execution_count": 7,
   "metadata": {},
   "outputs": [
    {
     "data": {
      "image/png": "[encoded data removed]",
      "text/plain": [
       "<Figure size 144x144 with 1 Axes>"
      ]
     },
     "metadata": {
      "needs_background": "light"
     },
     "output_type": "display_data"
    }
   ],
   "source": [
    "plot_image(batch_1,Target_1,100)"
   ]
  },
  {
   "cell_type": "code",
   "execution_count": 8,
   "metadata": {},
   "outputs": [
    {
     "data": {
      "image/png": "[encoded data removed]",
      "text/plain": [
       "<Figure size 144x144 with 1 Axes>"
      ]
     },
     "metadata": {
      "needs_background": "light"
     },
     "output_type": "display_data"
    }
   ],
   "source": [
    "plot_image(batch_2,Target_2,100)"
   ]
  },
  {
   "cell_type": "code",
   "execution_count": 9,
   "metadata": {},
   "outputs": [
    {
     "data": {
      "image/png": "[encoded data removed]",
      "text/plain": [
       "<Figure size 144x144 with 1 Axes>"
      ]
     },
     "metadata": {
      "needs_background": "light"
     },
     "output_type": "display_data"
    }
   ],
   "source": [
    "plot_image(batch_3,Target_3,100)"
   ]
  },
  {
   "cell_type": "code",
   "execution_count": 10,
   "metadata": {},
   "outputs": [
    {
     "data": {
      "image/png": "[encoded data removed]",
      "text/plain": [
       "<Figure size 144x144 with 1 Axes>"
      ]
     },
     "metadata": {
      "needs_background": "light"
     },
     "output_type": "display_data"
    }
   ],
   "source": [
    "plot_image(batch_4,Target_4,100)"
   ]
  },
  {
   "cell_type": "code",
   "execution_count": 11,
   "metadata": {},
   "outputs": [
    {
     "data": {
      "image/png": "[encoded data removed]",
      "text/plain": [
       "<Figure size 144x144 with 1 Axes>"
      ]
     },
     "metadata": {
      "needs_background": "light"
     },
     "output_type": "display_data"
    }
   ],
   "source": [
    "plot_image(batch_5,Target_5,100)"
   ]
  },
  {
   "cell_type": "markdown",
   "metadata": {},
   "source": [
    "### $\\color{#00BBBB}{\\text{4. Data Prepatation}}$ \n"
   ]
  },
  {
   "cell_type": "code",
   "execution_count": 12,
   "metadata": {},
   "outputs": [],
   "source": [
    "X_train = np.append(batch_1, batch_2,axis=0)\n",
    "X_train = np.append(X_train, batch_3,axis=0)\n",
    "X_train = np.append(X_train, batch_4,axis=0)\n",
    "X_train = np.append(X_train, batch_5,axis=0)\n",
    "y_train = np.append(Target_1, Target_2,axis=0)\n",
    "y_train = np.append(y_train, Target_3,axis=0)\n",
    "y_train = np.append(y_train, Target_4,axis=0)\n",
    "y_train = np.append(y_train, Target_5,axis=0)"
   ]
  },
  {
   "cell_type": "code",
   "execution_count": 13,
   "metadata": {},
   "outputs": [
    {
     "name": "stdout",
     "output_type": "stream",
     "text": [
      "(50000, 3072) 50000\n"
     ]
    }
   ],
   "source": [
    "print(X_train.shape,len(y_train))"
   ]
  },
  {
   "cell_type": "code",
   "execution_count": 14,
   "metadata": {},
   "outputs": [],
   "source": [
    "X_train = X_train.reshape((len(X_train), 3, 32, 32)).transpose(0,2,3,1)\n",
    "y_train = np_utils.to_categorical(y_train, 10)"
   ]
  },
  {
   "cell_type": "code",
   "execution_count": 15,
   "metadata": {},
   "outputs": [],
   "source": [
    "X_test = X_test.reshape((len(X_test), 3, 32, 32)).transpose(0,2,3,1)\n",
    "y_test = np_utils.to_categorical(y_test, 10)"
   ]
  },
  {
   "cell_type": "code",
   "execution_count": 16,
   "metadata": {},
   "outputs": [
    {
     "name": "stdout",
     "output_type": "stream",
     "text": [
      "(50000, 32, 32, 3) (10000, 32, 32, 3) 50000 10000\n"
     ]
    }
   ],
   "source": [
    "print(X_train.shape,X_test.shape,len(y_train),len(y_test))"
   ]
  },
  {
   "cell_type": "code",
   "execution_count": 17,
   "metadata": {},
   "outputs": [],
   "source": [
    "X_train = X_train.astype('float32')\n",
    "X_test= X_test.astype('float32')\n",
    "X_train= X_train / 255.0\n",
    "X_test= X_test/ 255.0"
   ]
  },
  {
   "cell_type": "code",
   "execution_count": null,
   "metadata": {},
   "outputs": [],
   "source": []
  },
  {
   "cell_type": "markdown",
   "metadata": {},
   "source": [
    "# CNN model "
   ]
  },
  {
   "cell_type": "markdown",
   "metadata": {},
   "source": [
    "### Conv2D layer\n",
    "\n",
    "* keras.layers.Conv2D(filters, kernel_size, strides=(1, 1), padding='valid', data_format=None, dilation_rate=(1, 1), activation=None, use_bias=True, kernel_initializer='glorot_uniform', bias_initializer='zeros', kernel_regularizer=None, bias_regularizer=None, activity_regularizer=None, kernel_constraint=None, bias_constraint=None)\n",
    "\n",
    "\n",
    "**Parameters**\n",
    "\n",
    "1. Filters \n",
    "            \n",
    "            The filter value depends on  the complexity of the dataset and the depth \n",
    "            of neural network.\n",
    "            \n",
    "            In this achitecture start with 32 filters.\n",
    "\n",
    "2. Kerner_size.\n",
    "\n",
    "            The second required parameter in the Keras Conv2D class is the kernel_size ,a\n",
    "            2-tuple specifying the width and height of the 2D convolution window.\n",
    "        \n",
    "            As the size of the image is 32 x 32 will choose either 1x1 or 3x3 kernel size.\n",
    "\n",
    "3. Strides.\n",
    "        \n",
    "            The strides  parameter is a 2-tuple of integers, specifying the 'step' of the\n",
    "            convolution along the x and y axis of the input volume.\n",
    "          \n",
    "            The strides  value defaults to (1, 1) as I use the same.\n",
    "\n",
    "4. Padding.\n",
    "           \n",
    "            To preserve the spatial dimensions of the volume, i use \"same\"  for the \n",
    "            padding.\n",
    "\n",
    "5. Activation\n",
    "\n",
    "            The activation  parameter  helps keep code cleaner and won't have an impact \n",
    "            on the performance of Convolutional Neural Network.\n",
    "\n",
    "           \n",
    "6. kernel_initializer\n",
    "\n",
    "            The kernel_initializer  defaults to glorot_uniform , the Xavier Glorot \n",
    "            uniform initialization method, which is perfectly fine for the majority of \n",
    "            tasks; however, for deeper neural networks want to use  'he_normal' if \n",
    "            network has a large number of parameters.\n",
    "\n",
    "            \n",
    "7. The kernel_regularizer , bias_regularizer , and activity_regularizer   \n",
    "                \n",
    "             Controls The type and amount of regularization method applied to the Conv2D \n",
    "             layer.\n",
    "\n",
    "             Applying regularization helps to:\n",
    "\n",
    "                Reduce the effects of overfitting\n",
    "                Increase the ability of your model to generalize\n",
    "\n",
    "          \n",
    "8. Rest all parameters are kept as default.\n",
    "\n",
    "\n",
    "# MaxPooling2D\n",
    "\n",
    "Max pooling operation for spatial data.\n",
    "\n",
    "* keras.layers.MaxPooling2D(pool_size=(2, 2), strides=None, padding='valid', data_format=None)\n",
    "\n",
    "\n"
   ]
  },
  {
   "cell_type": "markdown",
   "metadata": {},
   "source": [
    "##  Model 1 \n",
    "#### Lets check the performance with below parameters\n",
    "1. Initial filter with 64\n",
    "2. kernel size 3x3 \n",
    "3. activation - Relu\n",
    "4. Kernel_initializer - he_normal\n",
    "5. kerner_regularizer - 0.001\n",
    "6. 5 conv2D layers, 3 maxpooling2D, 2 dense or fully connected layers, one flatten\n",
    "7. optimizer SGD\n",
    "9. loss - cross entropy\n",
    "10. Metrics - accuracy\n",
    "11. batch_size = 32\n",
    "12. epochs -10\n",
    "11. No cross validation "
   ]
  },
  {
   "cell_type": "code",
   "execution_count": 18,
   "metadata": {},
   "outputs": [
    {
     "name": "stdout",
     "output_type": "stream",
     "text": [
      "WARNING:tensorflow:From C:\\Users\\Dhanajayan\\Anaconda3\\lib\\site-packages\\tensorflow\\python\\framework\\op_def_library.py:263: colocate_with (from tensorflow.python.framework.ops) is deprecated and will be removed in a future version.\n",
      "Instructions for updating:\n",
      "Colocations handled automatically by placer.\n",
      "_________________________________________________________________\n",
      "Layer (type)                 Output Shape              Param #   \n",
      "=================================================================\n",
      "conv2d_1 (Conv2D)            (None, 30, 30, 64)        1792      \n",
      "_________________________________________________________________\n",
      "conv2d_2 (Conv2D)            (None, 28, 28, 64)        36928     \n",
      "_________________________________________________________________\n",
      "max_pooling2d_1 (MaxPooling2 (None, 14, 14, 64)        0         \n",
      "_________________________________________________________________\n",
      "conv2d_3 (Conv2D)            (None, 12, 12, 64)        36928     \n",
      "_________________________________________________________________\n",
      "conv2d_4 (Conv2D)            (None, 10, 10, 64)        36928     \n",
      "_________________________________________________________________\n",
      "max_pooling2d_2 (MaxPooling2 (None, 5, 5, 64)          0         \n",
      "_________________________________________________________________\n",
      "conv2d_5 (Conv2D)            (None, 3, 3, 64)          36928     \n",
      "_________________________________________________________________\n",
      "max_pooling2d_3 (MaxPooling2 (None, 1, 1, 64)          0         \n",
      "_________________________________________________________________\n",
      "flatten_1 (Flatten)          (None, 64)                0         \n",
      "_________________________________________________________________\n",
      "dense_1 (Dense)              (None, 128)               8320      \n",
      "_________________________________________________________________\n",
      "dense_2 (Dense)              (None, 10)                1290      \n",
      "=================================================================\n",
      "Total params: 159,114\n",
      "Trainable params: 159,114\n",
      "Non-trainable params: 0\n",
      "_________________________________________________________________\n"
     ]
    }
   ],
   "source": [
    "# Lets built a model with conv2d layers\n",
    "model = Sequential()\n",
    "model.add(Conv2D(64, (3, 3), activation='relu',kernel_initializer='he_normal',kernel_regularizer=regularizers.l2(0.001), input_shape=(32, 32, 3)))\n",
    "model.add(Conv2D(64, (3, 3), activation='relu',kernel_initializer='he_normal',kernel_regularizer=regularizers.l2(0.001)))\n",
    "model.add(MaxPooling2D((2, 2)))\n",
    "model.add(Conv2D(64, (3, 3), activation='relu',kernel_initializer='he_normal',kernel_regularizer=regularizers.l2(0.001)))\n",
    "model.add(Conv2D(64, (3, 3), activation='relu',kernel_initializer='he_normal',kernel_regularizer=regularizers.l2(0.001)))\n",
    "model.add(MaxPooling2D((2, 2)))\n",
    "model.add(Conv2D(64, (3, 3), activation='relu',kernel_initializer='he_normal',kernel_regularizer=regularizers.l2(0.001)))\n",
    "model.add(MaxPooling2D((2, 2)))\n",
    "model.add(Flatten())\n",
    "model.add(Dense(128, activation='relu'))\n",
    "model.add(Dense(10, activation='softmax'))\n",
    "model.summary()"
   ]
  },
  {
   "cell_type": "code",
   "execution_count": 19,
   "metadata": {},
   "outputs": [
    {
     "name": "stdout",
     "output_type": "stream",
     "text": [
      "WARNING:tensorflow:From C:\\Users\\Dhanajayan\\Anaconda3\\lib\\site-packages\\tensorflow\\python\\ops\\math_ops.py:3066: to_int32 (from tensorflow.python.ops.math_ops) is deprecated and will be removed in a future version.\n",
      "Instructions for updating:\n",
      "Use tf.cast instead.\n",
      "Epoch 1/10\n",
      "50000/50000 [==============================] - 360s 7ms/step - loss: 2.2050 - acc: 0.3811\n",
      "Epoch 2/10\n",
      "50000/50000 [==============================] - 247s 5ms/step - loss: 1.6955 - acc: 0.5551\n",
      "Epoch 3/10\n",
      "50000/50000 [==============================] - 259s 5ms/step - loss: 1.4814 - acc: 0.6193 5s - loss: 1.4829 - acc - ETA: 3s - loss: 1.4827  - ETA: 1s - loss: 1.4822 - \n",
      "Epoch 4/10\n",
      "50000/50000 [==============================] - 260s 5ms/step - loss: 1.3625 - acc: 0.6529 5s - loss: 1.3638 - acc: 0 - ETA: \n",
      "Epoch 5/10\n",
      "50000/50000 [==============================] - 264s 5ms/step - loss: 1.2680 - acc: 0.6814\n",
      "Epoch 6/10\n",
      "50000/50000 [==============================] - 269s 5ms/step - loss: 1.1962 - acc: 0.7037\n",
      "Epoch 7/10\n",
      "50000/50000 [==============================] - 277s 6ms/step - loss: 1.1463 - acc: 0.7171\n",
      "Epoch 8/10\n",
      "50000/50000 [==============================] - 307s 6ms/step - loss: 1.0962 - acc: 0.7328\n",
      "Epoch 9/10\n",
      "50000/50000 [==============================] - 250s 5ms/step - loss: 1.0542 - acc: 0.7483\n",
      "Epoch 10/10\n",
      "50000/50000 [==============================] - 240s 5ms/step - loss: 1.0214 - acc: 0.7552\n"
     ]
    },
    {
     "data": {
      "text/plain": [
       "<keras.callbacks.History at 0x238076581d0>"
      ]
     },
     "execution_count": 19,
     "metadata": {},
     "output_type": "execute_result"
    }
   ],
   "source": [
    "epochs = 10\n",
    "sgd = SGD(lr=1e-2, momentum=0.9, decay=1e-2/epochs)\n",
    "model.compile(optimizer=sgd, loss='categorical_crossentropy', metrics=['accuracy'])\n",
    "model.fit(X_train,y_train,epochs=epochs,batch_size = 32)"
   ]
  },
  {
   "cell_type": "code",
   "execution_count": 20,
   "metadata": {},
   "outputs": [
    {
     "name": "stdout",
     "output_type": "stream",
     "text": [
      "10000/10000 [==============================] - 18s 2ms/step\n"
     ]
    },
    {
     "data": {
      "text/plain": [
       "0.7106"
      ]
     },
     "execution_count": 20,
     "metadata": {},
     "output_type": "execute_result"
    }
   ],
   "source": [
    "test_loss,test_acc = model.evaluate(X_test,y_test)\n",
    "test_acc"
   ]
  },
  {
   "cell_type": "markdown",
   "metadata": {},
   "source": [
    "## Observation \n",
    "\n",
    "The train accuracy for the above model with 10 epochs is 75.5%\n",
    "The test accuracy is 71%  so if the epochs increased accuracy will vary\n",
    "\n",
    "The difference in accuracy for train and test is approx 4% it may change with other unknown pictures"
   ]
  },
  {
   "cell_type": "markdown",
   "metadata": {},
   "source": [
    "# model 2\n",
    "#### Lets check the performance  by changing initial filter in increasing order with powers of 2\n",
    "1. Initial filter with 32\n",
    "2. kernel size 3x3 \n",
    "3. activation - Relu\n",
    "4. Kernel_initializer - he_normal\n",
    "5. kerner_regularizer - 0.001\n",
    "6. 5 conv2D layers, 3 maxpooling2D, 2 dense or fully connected layers, one flatten\n",
    "7. optimizer SGD\n",
    "9. loss - cross entropy\n",
    "10. Metrics - accuracy\n",
    "11. batch_size = 32\n",
    "12. epochs -10\n",
    "11. No cross validation "
   ]
  },
  {
   "cell_type": "code",
   "execution_count": 22,
   "metadata": {},
   "outputs": [
    {
     "name": "stdout",
     "output_type": "stream",
     "text": [
      "_________________________________________________________________\n",
      "Layer (type)                 Output Shape              Param #   \n",
      "=================================================================\n",
      "conv2d_6 (Conv2D)            (None, 30, 30, 32)        896       \n",
      "_________________________________________________________________\n",
      "conv2d_7 (Conv2D)            (None, 28, 28, 32)        9248      \n",
      "_________________________________________________________________\n",
      "max_pooling2d_4 (MaxPooling2 (None, 14, 14, 32)        0         \n",
      "_________________________________________________________________\n",
      "conv2d_8 (Conv2D)            (None, 12, 12, 64)        18496     \n",
      "_________________________________________________________________\n",
      "conv2d_9 (Conv2D)            (None, 10, 10, 64)        36928     \n",
      "_________________________________________________________________\n",
      "max_pooling2d_5 (MaxPooling2 (None, 5, 5, 64)          0         \n",
      "_________________________________________________________________\n",
      "conv2d_10 (Conv2D)           (None, 3, 3, 128)         73856     \n",
      "_________________________________________________________________\n",
      "max_pooling2d_6 (MaxPooling2 (None, 1, 1, 128)         0         \n",
      "_________________________________________________________________\n",
      "flatten_2 (Flatten)          (None, 128)               0         \n",
      "_________________________________________________________________\n",
      "dense_3 (Dense)              (None, 128)               16512     \n",
      "_________________________________________________________________\n",
      "dense_4 (Dense)              (None, 10)                1290      \n",
      "=================================================================\n",
      "Total params: 157,226\n",
      "Trainable params: 157,226\n",
      "Non-trainable params: 0\n",
      "_________________________________________________________________\n"
     ]
    }
   ],
   "source": [
    "model2 = Sequential()\n",
    "model2.add(Conv2D(32, (3, 3), activation='relu',kernel_initializer='he_normal',kernel_regularizer=regularizers.l2(0.001), input_shape=(32, 32, 3)))\n",
    "model2.add(Conv2D(32, (3, 3), activation='relu',kernel_initializer='he_normal',kernel_regularizer=regularizers.l2(0.001)))\n",
    "model2.add(MaxPooling2D((2, 2)))\n",
    "model2.add(Conv2D(64, (3, 3), activation='relu',kernel_initializer='he_normal',kernel_regularizer=regularizers.l2(0.001)))\n",
    "model2.add(Conv2D(64, (3, 3), activation='relu',kernel_initializer='he_normal',kernel_regularizer=regularizers.l2(0.001)))\n",
    "model2.add(MaxPooling2D((2, 2)))\n",
    "model2.add(Conv2D(128, (3, 3), activation='relu',kernel_initializer='he_normal',kernel_regularizer=regularizers.l2(0.001)))\n",
    "model2.add(MaxPooling2D((2, 2)))\n",
    "model2.add(Flatten())\n",
    "model2.add(Dense(128, activation='relu'))\n",
    "model2.add(Dense(10, activation='softmax'))\n",
    "model2.summary()"
   ]
  },
  {
   "cell_type": "code",
   "execution_count": 23,
   "metadata": {},
   "outputs": [
    {
     "name": "stdout",
     "output_type": "stream",
     "text": [
      "Epoch 1/10\n",
      "50000/50000 [==============================] - 103s 2ms/step - loss: 2.2591 - acc: 0.3634\n",
      "Epoch 2/10\n",
      "50000/50000 [==============================] - 117s 2ms/step - loss: 1.7776 - acc: 0.5163\n",
      "Epoch 3/10\n",
      "50000/50000 [==============================] - 116s 2ms/step - loss: 1.5704 - acc: 0.5816\n",
      "Epoch 4/10\n",
      "50000/50000 [==============================] - 126s 3ms/step - loss: 1.4424 - acc: 0.6203\n",
      "Epoch 5/10\n",
      "50000/50000 [==============================] - 131s 3ms/step - loss: 1.3423 - acc: 0.6529\n",
      "Epoch 6/10\n",
      "50000/50000 [==============================] - 136s 3ms/step - loss: 1.2669 - acc: 0.6765\n",
      "Epoch 7/10\n",
      "50000/50000 [==============================] - 129s 3ms/step - loss: 1.2028 - acc: 0.6969 2s - loss: 1.2023 - - ETA: 1s - los\n",
      "Epoch 8/10\n",
      "50000/50000 [==============================] - 129s 3ms/step - loss: 1.1511 - acc: 0.7121 0s - loss: 1.1509 - acc\n",
      "Epoch 9/10\n",
      "50000/50000 [==============================] - 130s 3ms/step - loss: 1.1018 - acc: 0.7280\n",
      "Epoch 10/10\n",
      "50000/50000 [==============================] - 135s 3ms/step - loss: 1.0646 - acc: 0.7385\n"
     ]
    },
    {
     "data": {
      "text/plain": [
       "<keras.callbacks.History at 0x2381c90ccc0>"
      ]
     },
     "execution_count": 23,
     "metadata": {},
     "output_type": "execute_result"
    }
   ],
   "source": [
    "epochs = 10\n",
    "sgd = SGD(lr=1e-2, momentum=0.9, decay=1e-2/epochs)\n",
    "model2.compile(optimizer=sgd, loss='categorical_crossentropy', metrics=['accuracy'])\n",
    "model2.fit(X_train,y_train,epochs=epochs,batch_size = 32)"
   ]
  },
  {
   "cell_type": "code",
   "execution_count": 24,
   "metadata": {},
   "outputs": [
    {
     "name": "stdout",
     "output_type": "stream",
     "text": [
      "10000/10000 [==============================] - 11s 1ms/step\n"
     ]
    },
    {
     "data": {
      "text/plain": [
       "0.6629"
      ]
     },
     "execution_count": 24,
     "metadata": {},
     "output_type": "execute_result"
    }
   ],
   "source": [
    "test_loss,test_acc = model2.evaluate(X_test,y_test)\n",
    "test_acc"
   ]
  },
  {
   "cell_type": "markdown",
   "metadata": {},
   "source": [
    "# Observation \n",
    "The above model with filters changing in increasing order decreased the accuracy  by 2% and with less computation\n",
    "model 2 reduced test accuracy 1% data from  model 1\n"
   ]
  },
  {
   "cell_type": "markdown",
   "metadata": {},
   "source": [
    "# Model 3\n",
    "Change in kernel shape 1 X 1"
   ]
  },
  {
   "cell_type": "code",
   "execution_count": null,
   "metadata": {},
   "outputs": [],
   "source": [
    " "
   ]
  },
  {
   "cell_type": "code",
   "execution_count": 25,
   "metadata": {},
   "outputs": [
    {
     "name": "stdout",
     "output_type": "stream",
     "text": [
      "_________________________________________________________________\n",
      "Layer (type)                 Output Shape              Param #   \n",
      "=================================================================\n",
      "conv2d_11 (Conv2D)           (None, 32, 32, 32)        128       \n",
      "_________________________________________________________________\n",
      "conv2d_12 (Conv2D)           (None, 32, 32, 32)        1056      \n",
      "_________________________________________________________________\n",
      "max_pooling2d_7 (MaxPooling2 (None, 16, 16, 32)        0         \n",
      "_________________________________________________________________\n",
      "conv2d_13 (Conv2D)           (None, 16, 16, 64)        2112      \n",
      "_________________________________________________________________\n",
      "conv2d_14 (Conv2D)           (None, 16, 16, 64)        4160      \n",
      "_________________________________________________________________\n",
      "max_pooling2d_8 (MaxPooling2 (None, 8, 8, 64)          0         \n",
      "_________________________________________________________________\n",
      "conv2d_15 (Conv2D)           (None, 8, 8, 128)         8320      \n",
      "_________________________________________________________________\n",
      "max_pooling2d_9 (MaxPooling2 (None, 4, 4, 128)         0         \n",
      "_________________________________________________________________\n",
      "flatten_3 (Flatten)          (None, 2048)              0         \n",
      "_________________________________________________________________\n",
      "dense_5 (Dense)              (None, 128)               262272    \n",
      "_________________________________________________________________\n",
      "dense_6 (Dense)              (None, 10)                1290      \n",
      "=================================================================\n",
      "Total params: 279,338\n",
      "Trainable params: 279,338\n",
      "Non-trainable params: 0\n",
      "_________________________________________________________________\n"
     ]
    }
   ],
   "source": [
    "model3 = Sequential()\n",
    "model3.add(Conv2D(32, (1, 1), activation='relu',kernel_initializer='he_normal',kernel_regularizer=regularizers.l2(0.001), input_shape=(32, 32, 3)))\n",
    "model3.add(Conv2D(32, (1, 1), activation='relu',kernel_initializer='he_normal',kernel_regularizer=regularizers.l2(0.001)))\n",
    "model3.add(MaxPooling2D((2, 2)))\n",
    "model3.add(Conv2D(64, (1, 1), activation='relu',kernel_initializer='he_normal',kernel_regularizer=regularizers.l2(0.001)))\n",
    "model3.add(Conv2D(64, (1, 1), activation='relu',kernel_initializer='he_normal',kernel_regularizer=regularizers.l2(0.001)))\n",
    "model3.add(MaxPooling2D((2, 2)))\n",
    "model3.add(Conv2D(128, (1, 1), activation='relu',kernel_initializer='he_normal',kernel_regularizer=regularizers.l2(0.001)))\n",
    "model3.add(MaxPooling2D((2, 2)))\n",
    "model3.add(Flatten())\n",
    "model3.add(Dense(128, activation='relu'))\n",
    "model3.add(Dense(10, activation='softmax'))\n",
    "model3.summary()"
   ]
  },
  {
   "cell_type": "code",
   "execution_count": 26,
   "metadata": {},
   "outputs": [
    {
     "name": "stdout",
     "output_type": "stream",
     "text": [
      "Epoch 1/10\n",
      "50000/50000 [==============================] - 71s 1ms/step - loss: 2.3842 - acc: 0.3185\n",
      "Epoch 2/10\n",
      "50000/50000 [==============================] - 69s 1ms/step - loss: 1.9200 - acc: 0.4613\n",
      "Epoch 3/10\n",
      "50000/50000 [==============================] - 68s 1ms/step - loss: 1.7791 - acc: 0.4967\n",
      "Epoch 4/10\n",
      "50000/50000 [==============================] - 68s 1ms/step - loss: 1.6963 - acc: 0.5166\n",
      "Epoch 5/10\n",
      "50000/50000 [==============================] - 57s 1ms/step - loss: 1.6320 - acc: 0.5322\n",
      "Epoch 6/10\n",
      "50000/50000 [==============================] - 54s 1ms/step - loss: 1.5832 - acc: 0.5456\n",
      "Epoch 7/10\n",
      "50000/50000 [==============================] - 53s 1ms/step - loss: 1.5437 - acc: 0.5575\n",
      "Epoch 8/10\n",
      "50000/50000 [==============================] - 53s 1ms/step - loss: 1.5086 - acc: 0.5667\n",
      "Epoch 9/10\n",
      "50000/50000 [==============================] - 54s 1ms/step - loss: 1.4801 - acc: 0.5759\n",
      "Epoch 10/10\n",
      "50000/50000 [==============================] - 53s 1ms/step - loss: 1.4554 - acc: 0.5816\n"
     ]
    },
    {
     "data": {
      "text/plain": [
       "<keras.callbacks.History at 0x2381cca0a20>"
      ]
     },
     "execution_count": 26,
     "metadata": {},
     "output_type": "execute_result"
    }
   ],
   "source": [
    "epochs = 10\n",
    "sgd = SGD(lr=1e-2, momentum=0.9, decay=1e-2/epochs)\n",
    "model3.compile(optimizer=sgd, loss='categorical_crossentropy', metrics=['accuracy'])\n",
    "model3.fit(X_train,y_train,epochs=epochs,batch_size = 32)"
   ]
  },
  {
   "cell_type": "code",
   "execution_count": 27,
   "metadata": {},
   "outputs": [
    {
     "name": "stdout",
     "output_type": "stream",
     "text": [
      "10000/10000 [==============================] - 5s 477us/step\n"
     ]
    },
    {
     "data": {
      "text/plain": [
       "0.5748"
      ]
     },
     "execution_count": 27,
     "metadata": {},
     "output_type": "execute_result"
    }
   ],
   "source": [
    "test_loss,test_acc = model3.evaluate(X_test,y_test)\n",
    "test_acc"
   ]
  },
  {
   "cell_type": "markdown",
   "metadata": {},
   "source": [
    "# Observation\n",
    " By reducing kernel size the train accuracy droped by almost 17%\n",
    "But the difference between the test and train is only 2% \n",
    "it requires only less computation compare to above models\n",
    " ,so kernel size 1x1 is not a good choice"
   ]
  },
  {
   "cell_type": "markdown",
   "metadata": {},
   "source": [
    "# Model -4\n"
   ]
  },
  {
   "cell_type": "code",
   "execution_count": 28,
   "metadata": {},
   "outputs": [
    {
     "name": "stdout",
     "output_type": "stream",
     "text": [
      "_________________________________________________________________\n",
      "Layer (type)                 Output Shape              Param #   \n",
      "=================================================================\n",
      "conv2d_16 (Conv2D)           (None, 32, 32, 64)        256       \n",
      "_________________________________________________________________\n",
      "conv2d_17 (Conv2D)           (None, 32, 32, 64)        4160      \n",
      "_________________________________________________________________\n",
      "max_pooling2d_10 (MaxPooling (None, 16, 16, 64)        0         \n",
      "_________________________________________________________________\n",
      "conv2d_18 (Conv2D)           (None, 16, 16, 64)        4160      \n",
      "_________________________________________________________________\n",
      "conv2d_19 (Conv2D)           (None, 16, 16, 64)        4160      \n",
      "_________________________________________________________________\n",
      "max_pooling2d_11 (MaxPooling (None, 8, 8, 64)          0         \n",
      "_________________________________________________________________\n",
      "conv2d_20 (Conv2D)           (None, 8, 8, 64)          4160      \n",
      "_________________________________________________________________\n",
      "max_pooling2d_12 (MaxPooling (None, 4, 4, 64)          0         \n",
      "_________________________________________________________________\n",
      "flatten_4 (Flatten)          (None, 1024)              0         \n",
      "_________________________________________________________________\n",
      "dense_7 (Dense)              (None, 128)               131200    \n",
      "_________________________________________________________________\n",
      "dense_8 (Dense)              (None, 10)                1290      \n",
      "=================================================================\n",
      "Total params: 149,386\n",
      "Trainable params: 149,386\n",
      "Non-trainable params: 0\n",
      "_________________________________________________________________\n"
     ]
    }
   ],
   "source": [
    "model4 = Sequential()\n",
    "model4.add(Conv2D(64, (1, 1), activation='relu',kernel_initializer='he_normal',kernel_regularizer=regularizers.l2(0.001), input_shape=(32, 32, 3)))\n",
    "model4.add(Conv2D(64, (1, 1), activation='relu',kernel_initializer='he_normal',kernel_regularizer=regularizers.l2(0.001)))\n",
    "model4.add(MaxPooling2D((2, 2)))\n",
    "model4.add(Conv2D(64, (1, 1), activation='relu',kernel_initializer='he_normal',kernel_regularizer=regularizers.l2(0.001)))\n",
    "model4.add(Conv2D(64, (1, 1), activation='relu',kernel_initializer='he_normal',kernel_regularizer=regularizers.l2(0.001)))\n",
    "model4.add(MaxPooling2D((2, 2)))\n",
    "model4.add(Conv2D(64, (1, 1), activation='relu',kernel_initializer='he_normal',kernel_regularizer=regularizers.l2(0.001)))\n",
    "model4.add(MaxPooling2D((2, 2)))\n",
    "model4.add(Flatten())\n",
    "model4.add(Dense(128, activation='relu'))\n",
    "model4.add(Dense(10, activation='softmax'))\n",
    "model4.summary()"
   ]
  },
  {
   "cell_type": "code",
   "execution_count": 29,
   "metadata": {},
   "outputs": [
    {
     "name": "stdout",
     "output_type": "stream",
     "text": [
      "Epoch 1/10\n",
      "50000/50000 [==============================] - 78s 2ms/step - loss: 2.2423 - acc: 0.3753\n",
      "Epoch 2/10\n",
      "50000/50000 [==============================] - 78s 2ms/step - loss: 1.8545 - acc: 0.4848\n",
      "Epoch 3/10\n",
      "50000/50000 [==============================] - 76s 2ms/step - loss: 1.7188 - acc: 0.5180\n",
      "Epoch 4/10\n",
      "50000/50000 [==============================] - 77s 2ms/step - loss: 1.6352 - acc: 0.5387\n",
      "Epoch 5/10\n",
      "50000/50000 [==============================] - 76s 2ms/step - loss: 1.5727 - acc: 0.5562\n",
      "Epoch 6/10\n",
      "50000/50000 [==============================] - 77s 2ms/step - loss: 1.5296 - acc: 0.5650\n",
      "Epoch 7/10\n",
      "50000/50000 [==============================] - 77s 2ms/step - loss: 1.4938 - acc: 0.5761\n",
      "Epoch 8/10\n",
      "50000/50000 [==============================] - 76s 2ms/step - loss: 1.4638 - acc: 0.5816\n",
      "Epoch 9/10\n",
      "50000/50000 [==============================] - 77s 2ms/step - loss: 1.4401 - acc: 0.5866\n",
      "Epoch 10/10\n",
      "50000/50000 [==============================] - 78s 2ms/step - loss: 1.4182 - acc: 0.5948\n"
     ]
    },
    {
     "data": {
      "text/plain": [
       "<keras.callbacks.History at 0x2384211a5c0>"
      ]
     },
     "execution_count": 29,
     "metadata": {},
     "output_type": "execute_result"
    }
   ],
   "source": [
    "epochs = 10\n",
    "sgd = SGD(lr=1e-2, momentum=0.9, decay=1e-2/epochs)\n",
    "model4.compile(optimizer=sgd, loss='categorical_crossentropy', metrics=['accuracy'])\n",
    "model4.fit(X_train,y_train,epochs=epochs,batch_size = 32)"
   ]
  },
  {
   "cell_type": "code",
   "execution_count": 30,
   "metadata": {},
   "outputs": [
    {
     "name": "stdout",
     "output_type": "stream",
     "text": [
      "10000/10000 [==============================] - 7s 702us/step\n"
     ]
    },
    {
     "data": {
      "text/plain": [
       "0.5812"
      ]
     },
     "execution_count": 30,
     "metadata": {},
     "output_type": "execute_result"
    }
   ],
   "source": [
    "test_loss,test_acc = model4.evaluate(X_test,y_test)\n",
    "test_acc"
   ]
  },
  {
   "cell_type": "markdown",
   "metadata": {},
   "source": [
    "# Observation \n",
    "\n",
    "By the above four model kernel size are more important than the filters \n",
    "so to choose the right kernels and filters are much important \n",
    "Two important things will consider computation , overfitting while modeling\n",
    "\n",
    "* So by the above four model we consider model 1&2  to for futher model analysis"
   ]
  },
  {
   "cell_type": "code",
   "execution_count": null,
   "metadata": {},
   "outputs": [],
   "source": []
  }
 ],
 "metadata": {
  "kernelspec": {
   "display_name": "Python 3",
   "language": "python",
   "name": "python3"
  },
  "language_info": {
   "codemirror_mode": {
    "name": "ipython",
    "version": 3
   },
   "file_extension": ".py",
   "mimetype": "text/x-python",
   "name": "python",
   "nbconvert_exporter": "python",
   "pygments_lexer": "ipython3",
   "version": "3.7.1"
  }
 },
 "nbformat": 4,
 "nbformat_minor": 2
}
