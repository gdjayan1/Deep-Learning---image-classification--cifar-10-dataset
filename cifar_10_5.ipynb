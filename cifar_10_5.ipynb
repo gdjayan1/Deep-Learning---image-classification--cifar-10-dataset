{
 "cells": [
  {
   "cell_type": "markdown",
   "metadata": {},
   "source": [
    "# Model performance on Dropout \n",
    "\n",
    "* Dropout is a technique where randomly selected neurons are ignored during training. They are “dropped-out” randomly. This means that their contribution to the activation of downstream neurons is temporally removed on the forward pass and any weight updates are not applied to the neuron on the backward pass.\n",
    "\n",
    "**Dropout Rate**\n",
    "\n",
    "The default interpretation of the dropout hyperparameter is the probability of training a given node in a layer, where 1.0 means no dropout, and 0.0 means no outputs from the layer.\n",
    "\n",
    "A good value for dropout in a hidden layer is between 0.5 and 0.8. Input layers use a larger dropout rate, such as of 0.8."
   ]
  },
  {
   "cell_type": "code",
   "execution_count": 1,
   "metadata": {},
   "outputs": [
    {
     "name": "stderr",
     "output_type": "stream",
     "text": [
      "Using TensorFlow backend.\n"
     ]
    }
   ],
   "source": [
    "import pickle\n",
    "import matplotlib.pyplot as plt\n",
    "import numpy as np\n",
    "import pandas as pd\n",
    "from keras.models import Sequential\n",
    "from keras.layers import Conv2D\n",
    "from keras.layers import MaxPooling2D\n",
    "from keras.layers import Flatten, BatchNormalization\n",
    "from keras.layers import Dense, Dropout\n",
    "from keras import regularizers\n",
    "from keras.optimizers import SGD\n",
    "from keras.preprocessing.image import ImageDataGenerator\n",
    "from keras.utils import np_utils\n",
    "import keras\n",
    "\n",
    "\n",
    "def load_train_data(n):\n",
    "    with open('data_batch_'+ str(n), 'rb') as file:\n",
    "        batch = pickle.load(file, encoding='latin1')\n",
    "\n",
    "    features = batch['data']\n",
    "    Target = batch['labels']\n",
    "    return features, Target\n",
    "\n",
    "\n",
    "batch_1, Target_1 = load_train_data(1)\n",
    "batch_2, Target_2 = load_train_data(2)\n",
    "batch_3, Target_3 = load_train_data(3)\n",
    "batch_4, Target_4 = load_train_data(4)\n",
    "batch_5, Target_5 = load_train_data(5)\n",
    "\n",
    "\n",
    "with open('test_batch', 'rb') as file:\n",
    "    batch = pickle.load(file, encoding='latin1')\n",
    "X_test = batch['data']\n",
    "y_test = batch['labels']\n",
    "\n",
    "\n",
    "X_train = np.append(batch_1, batch_2,axis=0)\n",
    "X_train = np.append(X_train, batch_3,axis=0)\n",
    "X_train = np.append(X_train, batch_4,axis=0)\n",
    "X_train = np.append(X_train, batch_5,axis=0)\n",
    "y_train = np.append(Target_1, Target_2,axis=0)\n",
    "y_train = np.append(y_train, Target_3,axis=0)\n",
    "y_train = np.append(y_train, Target_4,axis=0)\n",
    "y_train = np.append(y_train, Target_5,axis=0)\n",
    "X_train = X_train.reshape((len(X_train), 3, 32, 32)).transpose(0,2,3,1)\n",
    "y_train = np_utils.to_categorical(y_train, 10)\n",
    "X_test = X_test.reshape((len(X_test), 3, 32, 32)).transpose(0,2,3,1)\n",
    "y_test = np_utils.to_categorical(y_test, 10)\n",
    "X_train = X_train.astype('float32')\n",
    "X_test= X_test.astype('float32')\n",
    "X_train= X_train / 255.0\n",
    "X_test= X_test/ 255.0"
   ]
  },
  {
   "cell_type": "markdown",
   "metadata": {},
   "source": [
    "## Model 11\n",
    "Dropout rate - 0.5"
   ]
  },
  {
   "cell_type": "code",
   "execution_count": 3,
   "metadata": {},
   "outputs": [
    {
     "name": "stdout",
     "output_type": "stream",
     "text": [
      "_________________________________________________________________\n",
      "Layer (type)                 Output Shape              Param #   \n",
      "=================================================================\n",
      "conv2d_6 (Conv2D)            (None, 32, 32, 64)        1792      \n",
      "_________________________________________________________________\n",
      "conv2d_7 (Conv2D)            (None, 32, 32, 64)        36928     \n",
      "_________________________________________________________________\n",
      "max_pooling2d_4 (MaxPooling2 (None, 16, 16, 64)        0         \n",
      "_________________________________________________________________\n",
      "conv2d_8 (Conv2D)            (None, 16, 16, 64)        36928     \n",
      "_________________________________________________________________\n",
      "conv2d_9 (Conv2D)            (None, 16, 16, 64)        36928     \n",
      "_________________________________________________________________\n",
      "max_pooling2d_5 (MaxPooling2 (None, 8, 8, 64)          0         \n",
      "_________________________________________________________________\n",
      "conv2d_10 (Conv2D)           (None, 8, 8, 64)          36928     \n",
      "_________________________________________________________________\n",
      "max_pooling2d_6 (MaxPooling2 (None, 4, 4, 64)          0         \n",
      "_________________________________________________________________\n",
      "flatten_2 (Flatten)          (None, 1024)              0         \n",
      "_________________________________________________________________\n",
      "dense_3 (Dense)              (None, 128)               131200    \n",
      "_________________________________________________________________\n",
      "dropout_2 (Dropout)          (None, 128)               0         \n",
      "_________________________________________________________________\n",
      "dense_4 (Dense)              (None, 10)                1290      \n",
      "=================================================================\n",
      "Total params: 281,994\n",
      "Trainable params: 281,994\n",
      "Non-trainable params: 0\n",
      "_________________________________________________________________\n"
     ]
    }
   ],
   "source": [
    "model11 = Sequential()\n",
    "model11.add(Conv2D(64, (3, 3), activation='relu',kernel_initializer='he_normal',kernel_regularizer=regularizers.l2(0.001),padding = 'same', input_shape=(32, 32, 3)))\n",
    "model11.add(Conv2D(64, (3, 3), activation='relu',kernel_initializer='he_normal',kernel_regularizer=regularizers.l2(0.001),padding = 'same'))\n",
    "model11.add(MaxPooling2D((2, 2)))\n",
    "model11.add(Conv2D(64, (3, 3), activation='relu',kernel_initializer='he_normal',kernel_regularizer=regularizers.l2(0.001),padding = 'same'))\n",
    "model11.add(Conv2D(64, (3, 3), activation='relu',kernel_initializer='he_normal',kernel_regularizer=regularizers.l2(0.001),padding = 'same'))\n",
    "model11.add(MaxPooling2D((2, 2)))\n",
    "model11.add(Conv2D(64, (3, 3), activation='relu',kernel_initializer='he_normal',kernel_regularizer=regularizers.l2(0.001),padding = 'same'))\n",
    "model11.add(MaxPooling2D((2, 2)))\n",
    "model11.add(Flatten())\n",
    "model11.add(Dense(128, activation='relu'))\n",
    "model11.add(Dropout(rate = 0.5))\n",
    "model11.add(Dense(10, activation='softmax'))\n",
    "model11.summary()"
   ]
  },
  {
   "cell_type": "code",
   "execution_count": 4,
   "metadata": {},
   "outputs": [
    {
     "name": "stdout",
     "output_type": "stream",
     "text": [
      "WARNING:tensorflow:From C:\\Users\\Dhanajayan\\Anaconda3\\lib\\site-packages\\tensorflow\\python\\ops\\math_ops.py:3066: to_int32 (from tensorflow.python.ops.math_ops) is deprecated and will be removed in a future version.\n",
      "Instructions for updating:\n",
      "Use tf.cast instead.\n",
      "Epoch 1/10\n",
      "50000/50000 [==============================] - 462s 9ms/step - loss: 2.3279 - acc: 0.3312\n",
      "Epoch 2/10\n",
      "50000/50000 [==============================] - 456s 9ms/step - loss: 1.8172 - acc: 0.4952\n",
      "Epoch 3/10\n",
      "50000/50000 [==============================] - 457s 9ms/step - loss: 1.5936 - acc: 0.5647\n",
      "Epoch 4/10\n",
      "50000/50000 [==============================] - 459s 9ms/step - loss: 1.4546 - acc: 0.6104\n",
      "Epoch 5/10\n",
      "50000/50000 [==============================] - 453s 9ms/step - loss: 1.3538 - acc: 0.6418\n",
      "Epoch 6/10\n",
      "50000/50000 [==============================] - 445s 9ms/step - loss: 1.2824 - acc: 0.6627\n",
      "Epoch 7/10\n",
      "50000/50000 [==============================] - 435s 9ms/step - loss: 1.2316 - acc: 0.6786\n",
      "Epoch 8/10\n",
      "50000/50000 [==============================] - 427s 9ms/step - loss: 1.1815 - acc: 0.6928\n",
      "Epoch 9/10\n",
      "50000/50000 [==============================] - 443s 9ms/step - loss: 1.1435 - acc: 0.7023\n",
      "Epoch 10/10\n",
      "50000/50000 [==============================] - 463s 9ms/step - loss: 1.1068 - acc: 0.7148\n"
     ]
    },
    {
     "data": {
      "text/plain": [
       "<keras.callbacks.History at 0x2699772ae48>"
      ]
     },
     "execution_count": 4,
     "metadata": {},
     "output_type": "execute_result"
    }
   ],
   "source": [
    "epochs = 10\n",
    "sgd = SGD(lr=1e-2, momentum=0.9, decay=1e-2/epochs)\n",
    "model11.compile(optimizer=sgd, loss='categorical_crossentropy', metrics=['accuracy'])\n",
    "model11.fit(X_train,y_train,epochs=epochs,batch_size = 32)"
   ]
  },
  {
   "cell_type": "code",
   "execution_count": 6,
   "metadata": {},
   "outputs": [
    {
     "name": "stdout",
     "output_type": "stream",
     "text": [
      "10000/10000 [==============================] - 37s 4ms/step\n"
     ]
    },
    {
     "data": {
      "text/plain": [
       "0.7262"
      ]
     },
     "execution_count": 6,
     "metadata": {},
     "output_type": "execute_result"
    }
   ],
   "source": [
    "test_loss,test_acc = model11.evaluate(X_test,y_test)\n",
    "test_acc"
   ]
  },
  {
   "cell_type": "markdown",
   "metadata": {},
   "source": [
    "# Observation\n",
    " In the model 11  dropout reduce the overfitting"
   ]
  },
  {
   "cell_type": "markdown",
   "metadata": {},
   "source": [
    "# model 12\n",
    "Add one more layer of conv2d and maxpooling and remove kernel_regularizer"
   ]
  },
  {
   "cell_type": "code",
   "execution_count": 7,
   "metadata": {},
   "outputs": [
    {
     "name": "stdout",
     "output_type": "stream",
     "text": [
      "_________________________________________________________________\n",
      "Layer (type)                 Output Shape              Param #   \n",
      "=================================================================\n",
      "conv2d_11 (Conv2D)           (None, 32, 32, 64)        1792      \n",
      "_________________________________________________________________\n",
      "conv2d_12 (Conv2D)           (None, 32, 32, 64)        36928     \n",
      "_________________________________________________________________\n",
      "max_pooling2d_7 (MaxPooling2 (None, 16, 16, 64)        0         \n",
      "_________________________________________________________________\n",
      "conv2d_13 (Conv2D)           (None, 16, 16, 64)        36928     \n",
      "_________________________________________________________________\n",
      "conv2d_14 (Conv2D)           (None, 16, 16, 64)        36928     \n",
      "_________________________________________________________________\n",
      "max_pooling2d_8 (MaxPooling2 (None, 8, 8, 64)          0         \n",
      "_________________________________________________________________\n",
      "conv2d_15 (Conv2D)           (None, 8, 8, 64)          36928     \n",
      "_________________________________________________________________\n",
      "max_pooling2d_9 (MaxPooling2 (None, 4, 4, 64)          0         \n",
      "_________________________________________________________________\n",
      "conv2d_16 (Conv2D)           (None, 4, 4, 64)          36928     \n",
      "_________________________________________________________________\n",
      "max_pooling2d_10 (MaxPooling (None, 2, 2, 64)          0         \n",
      "_________________________________________________________________\n",
      "flatten_3 (Flatten)          (None, 256)               0         \n",
      "_________________________________________________________________\n",
      "dense_5 (Dense)              (None, 128)               32896     \n",
      "_________________________________________________________________\n",
      "dropout_3 (Dropout)          (None, 128)               0         \n",
      "_________________________________________________________________\n",
      "dense_6 (Dense)              (None, 10)                1290      \n",
      "=================================================================\n",
      "Total params: 220,618\n",
      "Trainable params: 220,618\n",
      "Non-trainable params: 0\n",
      "_________________________________________________________________\n"
     ]
    }
   ],
   "source": [
    "model12 = Sequential()\n",
    "model12.add(Conv2D(64, (3, 3), activation='relu',kernel_initializer='he_normal',padding = 'same', input_shape=(32, 32, 3)))\n",
    "model12.add(Conv2D(64, (3, 3), activation='relu',kernel_initializer='he_normal',padding = 'same'))\n",
    "model12.add(MaxPooling2D((2, 2)))\n",
    "model12.add(Conv2D(64, (3, 3), activation='relu',kernel_initializer='he_normal',padding = 'same'))\n",
    "model12.add(Conv2D(64, (3, 3), activation='relu',kernel_initializer='he_normal',padding = 'same'))\n",
    "model12.add(MaxPooling2D((2, 2)))\n",
    "model12.add(Conv2D(64, (3, 3), activation='relu',kernel_initializer='he_normal',padding = 'same'))\n",
    "model12.add(MaxPooling2D((2, 2)))\n",
    "model12.add(Conv2D(64, (3, 3), activation='relu',kernel_initializer='he_normal',padding = 'same'))\n",
    "model12.add(MaxPooling2D((2, 2)))\n",
    "model12.add(Flatten())\n",
    "model12.add(Dense(128, activation='relu'))\n",
    "model12.add(Dropout(rate = 0.5))\n",
    "model12.add(Dense(10, activation='softmax'))\n",
    "model12.summary()"
   ]
  },
  {
   "cell_type": "code",
   "execution_count": 8,
   "metadata": {},
   "outputs": [
    {
     "name": "stdout",
     "output_type": "stream",
     "text": [
      "Epoch 1/10\n",
      "50000/50000 [==============================] - 435s 9ms/step - loss: 1.7725 - acc: 0.3398\n",
      "Epoch 2/10\n",
      "50000/50000 [==============================] - 431s 9ms/step - loss: 1.3314 - acc: 0.5161\n",
      "Epoch 3/10\n",
      "50000/50000 [==============================] - 430s 9ms/step - loss: 1.1408 - acc: 0.5899\n",
      "Epoch 4/10\n",
      "50000/50000 [==============================] - 428s 9ms/step - loss: 1.0232 - acc: 0.6321\n",
      "Epoch 5/10\n",
      "50000/50000 [==============================] - 429s 9ms/step - loss: 0.9456 - acc: 0.6619\n",
      "Epoch 6/10\n",
      "50000/50000 [==============================] - 431s 9ms/step - loss: 0.8827 - acc: 0.6877\n",
      "Epoch 7/10\n",
      "50000/50000 [==============================] - 419s 8ms/step - loss: 0.8348 - acc: 0.7034\n",
      "Epoch 8/10\n",
      "50000/50000 [==============================] - 361s 7ms/step - loss: 0.7932 - acc: 0.7178\n",
      "Epoch 9/10\n",
      "50000/50000 [==============================] - 391s 8ms/step - loss: 0.7533 - acc: 0.7351\n",
      "Epoch 10/10\n",
      "50000/50000 [==============================] - 376s 8ms/step - loss: 0.7236 - acc: 0.7455\n"
     ]
    },
    {
     "data": {
      "text/plain": [
       "<keras.callbacks.History at 0x2699772a748>"
      ]
     },
     "execution_count": 8,
     "metadata": {},
     "output_type": "execute_result"
    }
   ],
   "source": [
    "epochs = 10\n",
    "sgd = SGD(lr=1e-2, momentum=0.9, decay=1e-2/epochs)\n",
    "model12.compile(optimizer=sgd, loss='categorical_crossentropy', metrics=['accuracy'])\n",
    "model12.fit(X_train,y_train,epochs=epochs,batch_size = 32)"
   ]
  },
  {
   "cell_type": "code",
   "execution_count": 9,
   "metadata": {},
   "outputs": [
    {
     "name": "stdout",
     "output_type": "stream",
     "text": [
      "10000/10000 [==============================] - 30s 3ms/step\n"
     ]
    },
    {
     "data": {
      "text/plain": [
       "0.7259"
      ]
     },
     "execution_count": 9,
     "metadata": {},
     "output_type": "execute_result"
    }
   ],
   "source": [
    "test_loss,test_acc = model12.evaluate(X_test,y_test)\n",
    "test_acc"
   ]
  },
  {
   "cell_type": "markdown",
   "metadata": {},
   "source": [
    "# Observation \n",
    "\n",
    "The addition of one hidden layer increased  the accuracy by 3 % in same 10 epochs"
   ]
  },
  {
   "cell_type": "markdown",
   "metadata": {},
   "source": [
    "# Model 13\n",
    "Dropout rate 0.6"
   ]
  },
  {
   "cell_type": "code",
   "execution_count": 11,
   "metadata": {},
   "outputs": [
    {
     "name": "stdout",
     "output_type": "stream",
     "text": [
      "_________________________________________________________________\n",
      "Layer (type)                 Output Shape              Param #   \n",
      "=================================================================\n",
      "conv2d_24 (Conv2D)           (None, 32, 32, 64)        1792      \n",
      "_________________________________________________________________\n",
      "conv2d_25 (Conv2D)           (None, 32, 32, 64)        36928     \n",
      "_________________________________________________________________\n",
      "max_pooling2d_15 (MaxPooling (None, 16, 16, 64)        0         \n",
      "_________________________________________________________________\n",
      "conv2d_26 (Conv2D)           (None, 16, 16, 64)        36928     \n",
      "_________________________________________________________________\n",
      "conv2d_27 (Conv2D)           (None, 16, 16, 64)        36928     \n",
      "_________________________________________________________________\n",
      "max_pooling2d_16 (MaxPooling (None, 8, 8, 64)          0         \n",
      "_________________________________________________________________\n",
      "conv2d_28 (Conv2D)           (None, 8, 8, 64)          36928     \n",
      "_________________________________________________________________\n",
      "max_pooling2d_17 (MaxPooling (None, 4, 4, 64)          0         \n",
      "_________________________________________________________________\n",
      "conv2d_29 (Conv2D)           (None, 4, 4, 64)          36928     \n",
      "_________________________________________________________________\n",
      "max_pooling2d_18 (MaxPooling (None, 2, 2, 64)          0         \n",
      "_________________________________________________________________\n",
      "conv2d_30 (Conv2D)           (None, 2, 2, 64)          36928     \n",
      "_________________________________________________________________\n",
      "max_pooling2d_19 (MaxPooling (None, 1, 1, 64)          0         \n",
      "_________________________________________________________________\n",
      "flatten_5 (Flatten)          (None, 64)                0         \n",
      "_________________________________________________________________\n",
      "dense_7 (Dense)              (None, 128)               8320      \n",
      "_________________________________________________________________\n",
      "dropout_4 (Dropout)          (None, 128)               0         \n",
      "_________________________________________________________________\n",
      "dense_8 (Dense)              (None, 10)                1290      \n",
      "=================================================================\n",
      "Total params: 232,970\n",
      "Trainable params: 232,970\n",
      "Non-trainable params: 0\n",
      "_________________________________________________________________\n"
     ]
    }
   ],
   "source": [
    "model13 = Sequential()\n",
    "model13.add(Conv2D(64, (3, 3), activation='relu',kernel_initializer='he_normal',padding = 'same', input_shape=(32, 32, 3)))\n",
    "model13.add(Conv2D(64, (3, 3), activation='relu',kernel_initializer='he_normal',padding = 'same'))\n",
    "model13.add(MaxPooling2D((2, 2)))\n",
    "model13.add(Conv2D(64, (3, 3), activation='relu',kernel_initializer='he_normal',padding = 'same'))\n",
    "model13.add(Conv2D(64, (3, 3), activation='relu',kernel_initializer='he_normal',padding = 'same'))\n",
    "model13.add(MaxPooling2D((2, 2)))\n",
    "model13.add(Conv2D(64, (3, 3), activation='relu',kernel_initializer='he_normal',padding = 'same'))\n",
    "model13.add(MaxPooling2D((2, 2)))\n",
    "model13.add(Conv2D(64, (3, 3), activation='relu',kernel_initializer='he_normal',padding = 'same'))\n",
    "model13.add(MaxPooling2D((2, 2)))\n",
    "model13.add(Conv2D(64, (3, 3), activation='relu',kernel_initializer='he_normal',padding = 'same'))\n",
    "model13.add(MaxPooling2D((2, 2)))\n",
    "model13.add(Flatten())\n",
    "model13.add(Dense(128, activation='relu'))\n",
    "model13.add(Dropout(rate = 0.6))\n",
    "model13.add(Dense(10, activation='softmax'))\n",
    "model13.summary()"
   ]
  },
  {
   "cell_type": "code",
   "execution_count": 12,
   "metadata": {},
   "outputs": [
    {
     "name": "stdout",
     "output_type": "stream",
     "text": [
      "Epoch 1/10\n",
      "50000/50000 [==============================] - 370s 7ms/step - loss: 1.8009 - acc: 0.3238\n",
      "Epoch 2/10\n",
      "50000/50000 [==============================] - 393s 8ms/step - loss: 1.3372 - acc: 0.5133\n",
      "Epoch 3/10\n",
      "50000/50000 [==============================] - 347s 7ms/step - loss: 1.1372 - acc: 0.5952\n",
      "Epoch 4/10\n",
      "50000/50000 [==============================] - 354s 7ms/step - loss: 1.0139 - acc: 0.6429\n",
      "Epoch 5/10\n",
      "50000/50000 [==============================] - 346s 7ms/step - loss: 0.9252 - acc: 0.6763\n",
      "Epoch 6/10\n",
      "50000/50000 [==============================] - 349s 7ms/step - loss: 0.8498 - acc: 0.7057\n",
      "Epoch 7/10\n",
      "50000/50000 [==============================] - 354s 7ms/step - loss: 0.7909 - acc: 0.7255\n",
      "Epoch 8/10\n",
      "50000/50000 [==============================] - 349s 7ms/step - loss: 0.7416 - acc: 0.7459\n",
      "Epoch 9/10\n",
      "50000/50000 [==============================] - 349s 7ms/step - loss: 0.7006 - acc: 0.7618\n",
      "Epoch 10/10\n",
      "50000/50000 [==============================] - 348s 7ms/step - loss: 0.6598 - acc: 0.7740\n"
     ]
    },
    {
     "data": {
      "text/plain": [
       "<keras.callbacks.History at 0x269d9c4d5f8>"
      ]
     },
     "execution_count": 12,
     "metadata": {},
     "output_type": "execute_result"
    }
   ],
   "source": [
    "epochs = 10\n",
    "sgd = SGD(lr=1e-2, momentum=0.9, decay=1e-2/epochs)\n",
    "model13.compile(optimizer=sgd, loss='categorical_crossentropy', metrics=['accuracy'])\n",
    "model13.fit(X_train,y_train,epochs=epochs,batch_size = 32)"
   ]
  },
  {
   "cell_type": "code",
   "execution_count": 13,
   "metadata": {},
   "outputs": [
    {
     "name": "stdout",
     "output_type": "stream",
     "text": [
      "10000/10000 [==============================] - 29s 3ms/step\n"
     ]
    },
    {
     "data": {
      "text/plain": [
       "0.7357"
      ]
     },
     "execution_count": 13,
     "metadata": {},
     "output_type": "execute_result"
    }
   ],
   "source": [
    "test_loss,test_acc = model13.evaluate(X_test,y_test)\n",
    "test_acc"
   ]
  },
  {
   "cell_type": "markdown",
   "metadata": {},
   "source": [
    "# Observation\n",
    "The model 13 gives more accuracy then other models.\n",
    "Next will tune hyperparmeters like batch size, optimizer, loss."
   ]
  },
  {
   "cell_type": "code",
   "execution_count": null,
   "metadata": {},
   "outputs": [],
   "source": []
  }
 ],
 "metadata": {
  "kernelspec": {
   "display_name": "Python 3",
   "language": "python",
   "name": "python3"
  },
  "language_info": {
   "codemirror_mode": {
    "name": "ipython",
    "version": 3
   },
   "file_extension": ".py",
   "mimetype": "text/x-python",
   "name": "python",
   "nbconvert_exporter": "python",
   "pygments_lexer": "ipython3",
   "version": "3.7.1"
  }
 },
 "nbformat": 4,
 "nbformat_minor": 2
}
