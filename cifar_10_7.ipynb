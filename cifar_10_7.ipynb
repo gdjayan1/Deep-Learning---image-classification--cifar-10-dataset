{
 "cells": [
  {
   "cell_type": "markdown",
   "metadata": {},
   "source": [
    "## Model performance on batch size"
   ]
  },
  {
   "cell_type": "code",
   "execution_count": 1,
   "metadata": {},
   "outputs": [
    {
     "name": "stderr",
     "output_type": "stream",
     "text": [
      "Using TensorFlow backend.\n"
     ]
    }
   ],
   "source": [
    "import pickle\n",
    "import matplotlib.pyplot as plt\n",
    "import numpy as np\n",
    "import pandas as pd\n",
    "from keras.models import Sequential\n",
    "from keras.layers import Conv2D\n",
    "from keras.layers import MaxPooling2D\n",
    "from keras.layers import Flatten, BatchNormalization\n",
    "from keras.layers import Dense, Dropout\n",
    "from keras import regularizers\n",
    "from keras.optimizers import SGD\n",
    "from keras.preprocessing.image import ImageDataGenerator\n",
    "from keras.utils import np_utils\n",
    "import keras\n",
    "\n",
    "\n",
    "def load_train_data(n):\n",
    "    with open('data_batch_'+ str(n), 'rb') as file:\n",
    "        batch = pickle.load(file, encoding='latin1')\n",
    "\n",
    "    features = batch['data']\n",
    "    Target = batch['labels']\n",
    "    return features, Target\n",
    "\n",
    "\n",
    "batch_1, Target_1 = load_train_data(1)\n",
    "batch_2, Target_2 = load_train_data(2)\n",
    "batch_3, Target_3 = load_train_data(3)\n",
    "batch_4, Target_4 = load_train_data(4)\n",
    "batch_5, Target_5 = load_train_data(5)\n",
    "\n",
    "\n",
    "with open('test_batch', 'rb') as file:\n",
    "    batch = pickle.load(file, encoding='latin1')\n",
    "X_test = batch['data']\n",
    "y_test = batch['labels']\n",
    "\n",
    "\n",
    "X_train = np.append(batch_1, batch_2,axis=0)\n",
    "X_train = np.append(X_train, batch_3,axis=0)\n",
    "X_train = np.append(X_train, batch_4,axis=0)\n",
    "X_train = np.append(X_train, batch_5,axis=0)\n",
    "y_train = np.append(Target_1, Target_2,axis=0)\n",
    "y_train = np.append(y_train, Target_3,axis=0)\n",
    "y_train = np.append(y_train, Target_4,axis=0)\n",
    "y_train = np.append(y_train, Target_5,axis=0)\n",
    "X_train = X_train.reshape((len(X_train), 3, 32, 32)).transpose(0,2,3,1)\n",
    "y_train = np_utils.to_categorical(y_train, 10)\n",
    "X_test = X_test.reshape((len(X_test), 3, 32, 32)).transpose(0,2,3,1)\n",
    "y_test = np_utils.to_categorical(y_test, 10)\n",
    "X_train = X_train.astype('float32')\n",
    "X_test= X_test.astype('float32')\n",
    "X_train= X_train / 255.0\n",
    "X_test= X_test/ 255.0"
   ]
  },
  {
   "cell_type": "markdown",
   "metadata": {},
   "source": [
    "# Model 17\n",
    "batch size 64"
   ]
  },
  {
   "cell_type": "code",
   "execution_count": 3,
   "metadata": {},
   "outputs": [
    {
     "name": "stdout",
     "output_type": "stream",
     "text": [
      "_________________________________________________________________\n",
      "Layer (type)                 Output Shape              Param #   \n",
      "=================================================================\n",
      "conv2d_8 (Conv2D)            (None, 32, 32, 64)        1792      \n",
      "_________________________________________________________________\n",
      "conv2d_9 (Conv2D)            (None, 32, 32, 64)        36928     \n",
      "_________________________________________________________________\n",
      "max_pooling2d_6 (MaxPooling2 (None, 16, 16, 64)        0         \n",
      "_________________________________________________________________\n",
      "conv2d_10 (Conv2D)           (None, 16, 16, 64)        36928     \n",
      "_________________________________________________________________\n",
      "conv2d_11 (Conv2D)           (None, 16, 16, 64)        36928     \n",
      "_________________________________________________________________\n",
      "max_pooling2d_7 (MaxPooling2 (None, 8, 8, 64)          0         \n",
      "_________________________________________________________________\n",
      "conv2d_12 (Conv2D)           (None, 8, 8, 64)          36928     \n",
      "_________________________________________________________________\n",
      "max_pooling2d_8 (MaxPooling2 (None, 4, 4, 64)          0         \n",
      "_________________________________________________________________\n",
      "conv2d_13 (Conv2D)           (None, 4, 4, 64)          36928     \n",
      "_________________________________________________________________\n",
      "max_pooling2d_9 (MaxPooling2 (None, 2, 2, 64)          0         \n",
      "_________________________________________________________________\n",
      "conv2d_14 (Conv2D)           (None, 2, 2, 64)          36928     \n",
      "_________________________________________________________________\n",
      "max_pooling2d_10 (MaxPooling (None, 1, 1, 64)          0         \n",
      "_________________________________________________________________\n",
      "flatten_2 (Flatten)          (None, 64)                0         \n",
      "_________________________________________________________________\n",
      "dense_3 (Dense)              (None, 128)               8320      \n",
      "_________________________________________________________________\n",
      "dropout_2 (Dropout)          (None, 128)               0         \n",
      "_________________________________________________________________\n",
      "dense_4 (Dense)              (None, 10)                1290      \n",
      "=================================================================\n",
      "Total params: 232,970\n",
      "Trainable params: 232,970\n",
      "Non-trainable params: 0\n",
      "_________________________________________________________________\n"
     ]
    }
   ],
   "source": [
    "model17 = Sequential()\n",
    "model17.add(Conv2D(64, (3, 3), activation='relu',kernel_initializer='he_normal',padding = 'same', input_shape=(32, 32, 3)))\n",
    "model17.add(Conv2D(64, (3, 3), activation='relu',kernel_initializer='he_normal',padding = 'same'))\n",
    "model17.add(MaxPooling2D((2, 2)))\n",
    "model17.add(Conv2D(64, (3, 3), activation='relu',kernel_initializer='he_normal',padding = 'same'))\n",
    "model17.add(Conv2D(64, (3, 3), activation='relu',kernel_initializer='he_normal',padding = 'same'))\n",
    "model17.add(MaxPooling2D((2, 2)))\n",
    "model17.add(Conv2D(64, (3, 3), activation='relu',kernel_initializer='he_normal',padding = 'same'))\n",
    "model17.add(MaxPooling2D((2, 2)))\n",
    "model17.add(Conv2D(64, (3, 3), activation='relu',kernel_initializer='he_normal',padding = 'same'))\n",
    "model17.add(MaxPooling2D((2, 2)))\n",
    "model17.add(Conv2D(64, (3, 3), activation='relu',kernel_initializer='he_normal',padding = 'same'))\n",
    "model17.add(MaxPooling2D((2, 2)))\n",
    "model17.add(Flatten())\n",
    "model17.add(Dense(128, activation='relu'))\n",
    "model17.add(Dropout(rate = 0.7))\n",
    "model17.add(Dense(10, activation='softmax'))\n",
    "model17.summary()"
   ]
  },
  {
   "cell_type": "code",
   "execution_count": 4,
   "metadata": {},
   "outputs": [
    {
     "name": "stdout",
     "output_type": "stream",
     "text": [
      "WARNING:tensorflow:From C:\\Users\\Dhanajayan\\Anaconda3\\lib\\site-packages\\tensorflow\\python\\ops\\math_ops.py:3066: to_int32 (from tensorflow.python.ops.math_ops) is deprecated and will be removed in a future version.\n",
      "Instructions for updating:\n",
      "Use tf.cast instead.\n",
      "Epoch 1/10\n",
      "50000/50000 [==============================] - 263s 5ms/step - loss: 1.7821 - acc: 0.3367\n",
      "Epoch 2/10\n",
      "50000/50000 [==============================] - 293s 6ms/step - loss: 1.2750 - acc: 0.5495\n",
      "Epoch 3/10\n",
      "50000/50000 [==============================] - 297s 6ms/step - loss: 1.0559 - acc: 0.6357\n",
      "Epoch 4/10\n",
      "50000/50000 [==============================] - 326s 7ms/step - loss: 0.9251 - acc: 0.6856\n",
      "Epoch 5/10\n",
      "50000/50000 [==============================] - 319s 6ms/step - loss: 0.8322 - acc: 0.7212\n",
      "Epoch 6/10\n",
      "50000/50000 [==============================] - 318s 6ms/step - loss: 0.7426 - acc: 0.7516\n",
      "Epoch 7/10\n",
      "50000/50000 [==============================] - 330s 7ms/step - loss: 0.6818 - acc: 0.7748\n",
      "Epoch 8/10\n",
      "50000/50000 [==============================] - 385s 8ms/step - loss: 0.6257 - acc: 0.7941\n",
      "Epoch 9/10\n",
      "50000/50000 [==============================] - 368s 7ms/step - loss: 0.5747 - acc: 0.8115\n",
      "Epoch 10/10\n",
      "50000/50000 [==============================] - 378s 8ms/step - loss: 0.5316 - acc: 0.8266\n"
     ]
    },
    {
     "data": {
      "text/plain": [
       "<keras.callbacks.History at 0x2641302c8d0>"
      ]
     },
     "execution_count": 4,
     "metadata": {},
     "output_type": "execute_result"
    }
   ],
   "source": [
    "epochs = 10\n",
    "model17.compile(optimizer='adam', loss='categorical_crossentropy', metrics=['accuracy'])\n",
    "model17.fit(X_train,y_train,epochs=epochs,batch_size = 64)"
   ]
  },
  {
   "cell_type": "code",
   "execution_count": 5,
   "metadata": {},
   "outputs": [
    {
     "name": "stdout",
     "output_type": "stream",
     "text": [
      "10000/10000 [==============================] - 39s 4ms/step\n"
     ]
    },
    {
     "data": {
      "text/plain": [
       "0.7454"
      ]
     },
     "execution_count": 5,
     "metadata": {},
     "output_type": "execute_result"
    }
   ],
   "source": [
    "test_loss,test_acc = model17.evaluate(X_test,y_test)\n",
    "test_acc"
   ]
  },
  {
   "cell_type": "markdown",
   "metadata": {},
   "source": [
    "# Observation\n",
    "The batch size 64 overfits the model than  the model with batch size 32"
   ]
  },
  {
   "cell_type": "markdown",
   "metadata": {},
   "source": [
    "# Model 18 \n",
    "batch size - 128"
   ]
  },
  {
   "cell_type": "code",
   "execution_count": 7,
   "metadata": {},
   "outputs": [
    {
     "name": "stdout",
     "output_type": "stream",
     "text": [
      "_________________________________________________________________\n",
      "Layer (type)                 Output Shape              Param #   \n",
      "=================================================================\n",
      "conv2d_15 (Conv2D)           (None, 32, 32, 64)        1792      \n",
      "_________________________________________________________________\n",
      "conv2d_16 (Conv2D)           (None, 32, 32, 64)        36928     \n",
      "_________________________________________________________________\n",
      "max_pooling2d_11 (MaxPooling (None, 16, 16, 64)        0         \n",
      "_________________________________________________________________\n",
      "conv2d_17 (Conv2D)           (None, 16, 16, 64)        36928     \n",
      "_________________________________________________________________\n",
      "conv2d_18 (Conv2D)           (None, 16, 16, 64)        36928     \n",
      "_________________________________________________________________\n",
      "max_pooling2d_12 (MaxPooling (None, 8, 8, 64)          0         \n",
      "_________________________________________________________________\n",
      "conv2d_19 (Conv2D)           (None, 8, 8, 64)          36928     \n",
      "_________________________________________________________________\n",
      "max_pooling2d_13 (MaxPooling (None, 4, 4, 64)          0         \n",
      "_________________________________________________________________\n",
      "conv2d_20 (Conv2D)           (None, 4, 4, 64)          36928     \n",
      "_________________________________________________________________\n",
      "max_pooling2d_14 (MaxPooling (None, 2, 2, 64)          0         \n",
      "_________________________________________________________________\n",
      "conv2d_21 (Conv2D)           (None, 2, 2, 64)          36928     \n",
      "_________________________________________________________________\n",
      "max_pooling2d_15 (MaxPooling (None, 1, 1, 64)          0         \n",
      "_________________________________________________________________\n",
      "flatten_3 (Flatten)          (None, 64)                0         \n",
      "_________________________________________________________________\n",
      "dense_5 (Dense)              (None, 128)               8320      \n",
      "_________________________________________________________________\n",
      "dropout_3 (Dropout)          (None, 128)               0         \n",
      "_________________________________________________________________\n",
      "dense_6 (Dense)              (None, 10)                1290      \n",
      "=================================================================\n",
      "Total params: 232,970\n",
      "Trainable params: 232,970\n",
      "Non-trainable params: 0\n",
      "_________________________________________________________________\n"
     ]
    }
   ],
   "source": [
    "model18 = Sequential()\n",
    "model18.add(Conv2D(64, (3, 3), activation='relu',kernel_initializer='he_normal',padding = 'same', input_shape=(32, 32, 3)))\n",
    "model18.add(Conv2D(64, (3, 3), activation='relu',kernel_initializer='he_normal',padding = 'same'))\n",
    "model18.add(MaxPooling2D((2, 2)))\n",
    "model18.add(Conv2D(64, (3, 3), activation='relu',kernel_initializer='he_normal',padding = 'same'))\n",
    "model18.add(Conv2D(64, (3, 3), activation='relu',kernel_initializer='he_normal',padding = 'same'))\n",
    "model18.add(MaxPooling2D((2, 2)))\n",
    "model18.add(Conv2D(64, (3, 3), activation='relu',kernel_initializer='he_normal',padding = 'same'))\n",
    "model18.add(MaxPooling2D((2, 2)))\n",
    "model18.add(Conv2D(64, (3, 3), activation='relu',kernel_initializer='he_normal',padding = 'same'))\n",
    "model18.add(MaxPooling2D((2, 2)))\n",
    "model18.add(Conv2D(64, (3, 3), activation='relu',kernel_initializer='he_normal',padding = 'same'))\n",
    "model18.add(MaxPooling2D((2, 2)))\n",
    "model18.add(Flatten())\n",
    "model18.add(Dense(128, activation='relu'))\n",
    "model18.add(Dropout(rate = 0.7))\n",
    "model18.add(Dense(10, activation='softmax'))\n",
    "model18.summary()"
   ]
  },
  {
   "cell_type": "code",
   "execution_count": 8,
   "metadata": {},
   "outputs": [
    {
     "name": "stdout",
     "output_type": "stream",
     "text": [
      "Epoch 1/10\n",
      "50000/50000 [==============================] - 367s 7ms/step - loss: 1.8870 - acc: 0.2947\n",
      "Epoch 2/10\n",
      "50000/50000 [==============================] - 356s 7ms/step - loss: 1.4245 - acc: 0.4837\n",
      "Epoch 3/10\n",
      "50000/50000 [==============================] - 362s 7ms/step - loss: 1.2023 - acc: 0.5776\n",
      "Epoch 4/10\n",
      "50000/50000 [==============================] - 491s 10ms/step - loss: 1.0389 - acc: 0.6401\n",
      "Epoch 5/10\n",
      "50000/50000 [==============================] - 529s 11ms/step - loss: 0.9129 - acc: 0.6872\n",
      "Epoch 6/10\n",
      "50000/50000 [==============================] - 524s 10ms/step - loss: 0.8227 - acc: 0.7234\n",
      "Epoch 7/10\n",
      "50000/50000 [==============================] - 519s 10ms/step - loss: 0.7442 - acc: 0.7533\n",
      "Epoch 8/10\n",
      "50000/50000 [==============================] - 511s 10ms/step - loss: 0.6696 - acc: 0.7782\n",
      "Epoch 9/10\n",
      "50000/50000 [==============================] - 511s 10ms/step - loss: 0.6168 - acc: 0.7947\n",
      "Epoch 10/10\n",
      "50000/50000 [==============================] - 500s 10ms/step - loss: 0.5648 - acc: 0.8132\n"
     ]
    },
    {
     "data": {
      "text/plain": [
       "<keras.callbacks.History at 0x26457abaeb8>"
      ]
     },
     "execution_count": 8,
     "metadata": {},
     "output_type": "execute_result"
    }
   ],
   "source": [
    "epochs = 10\n",
    "model18.compile(optimizer='adam', loss='categorical_crossentropy', metrics=['accuracy'])\n",
    "model18.fit(X_train,y_train,epochs=epochs,batch_size = 128)"
   ]
  },
  {
   "cell_type": "code",
   "execution_count": 10,
   "metadata": {},
   "outputs": [
    {
     "name": "stdout",
     "output_type": "stream",
     "text": [
      "10000/10000 [==============================] - 49s 5ms/step\n"
     ]
    },
    {
     "data": {
      "text/plain": [
       "0.7409"
      ]
     },
     "execution_count": 10,
     "metadata": {},
     "output_type": "execute_result"
    }
   ],
   "source": [
    "test_loss,test_acc = model18.evaluate(X_test,y_test)\n",
    "test_acc"
   ]
  },
  {
   "cell_type": "markdown",
   "metadata": {},
   "source": [
    "# Observation\n",
    " The batch size 64 and 128 almost works the same"
   ]
  },
  {
   "cell_type": "code",
   "execution_count": null,
   "metadata": {},
   "outputs": [],
   "source": []
  }
 ],
 "metadata": {
  "kernelspec": {
   "display_name": "Python 3",
   "language": "python",
   "name": "python3"
  },
  "language_info": {
   "codemirror_mode": {
    "name": "ipython",
    "version": 3
   },
   "file_extension": ".py",
   "mimetype": "text/x-python",
   "name": "python",
   "nbconvert_exporter": "python",
   "pygments_lexer": "ipython3",
   "version": "3.7.1"
  }
 },
 "nbformat": 4,
 "nbformat_minor": 2
}
