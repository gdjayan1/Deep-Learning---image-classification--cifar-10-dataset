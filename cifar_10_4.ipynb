{
 "cells": [
  {
   "cell_type": "markdown",
   "metadata": {},
   "source": [
    "## Model performance with padding"
   ]
  },
  {
   "cell_type": "code",
   "execution_count": 1,
   "metadata": {},
   "outputs": [
    {
     "name": "stderr",
     "output_type": "stream",
     "text": [
      "Using TensorFlow backend.\n"
     ]
    }
   ],
   "source": [
    "import pickle\n",
    "import matplotlib.pyplot as plt\n",
    "import numpy as np\n",
    "import pandas as pd\n",
    "from keras.models import Sequential\n",
    "from keras.layers import Conv2D\n",
    "from keras.layers import MaxPooling2D\n",
    "from keras.layers import Flatten, BatchNormalization\n",
    "from keras.layers import Dense, Dropout\n",
    "from keras import regularizers\n",
    "from keras.optimizers import SGD\n",
    "from keras.preprocessing.image import ImageDataGenerator\n",
    "from keras.utils import np_utils\n",
    "import keras\n",
    "\n",
    "\n",
    "def load_train_data(n):\n",
    "    with open('data_batch_'+ str(n), 'rb') as file:\n",
    "        batch = pickle.load(file, encoding='latin1')\n",
    "\n",
    "    features = batch['data']\n",
    "    Target = batch['labels']\n",
    "    return features, Target\n",
    "\n",
    "\n",
    "batch_1, Target_1 = load_train_data(1)\n",
    "batch_2, Target_2 = load_train_data(2)\n",
    "batch_3, Target_3 = load_train_data(3)\n",
    "batch_4, Target_4 = load_train_data(4)\n",
    "batch_5, Target_5 = load_train_data(5)\n",
    "\n",
    "\n",
    "with open('test_batch', 'rb') as file:\n",
    "    batch = pickle.load(file, encoding='latin1')\n",
    "X_test = batch['data']\n",
    "y_test = batch['labels']\n",
    "\n",
    "\n",
    "X_train = np.append(batch_1, batch_2,axis=0)\n",
    "X_train = np.append(X_train, batch_3,axis=0)\n",
    "X_train = np.append(X_train, batch_4,axis=0)\n",
    "X_train = np.append(X_train, batch_5,axis=0)\n",
    "y_train = np.append(Target_1, Target_2,axis=0)\n",
    "y_train = np.append(y_train, Target_3,axis=0)\n",
    "y_train = np.append(y_train, Target_4,axis=0)\n",
    "y_train = np.append(y_train, Target_5,axis=0)\n",
    "X_train = X_train.reshape((len(X_train), 3, 32, 32)).transpose(0,2,3,1)\n",
    "y_train = np_utils.to_categorical(y_train, 10)\n",
    "X_test = X_test.reshape((len(X_test), 3, 32, 32)).transpose(0,2,3,1)\n",
    "y_test = np_utils.to_categorical(y_test, 10)\n",
    "X_train = X_train.astype('float32')\n",
    "X_test= X_test.astype('float32')\n",
    "X_train= X_train / 255.0\n",
    "X_test= X_test/ 255.0"
   ]
  },
  {
   "cell_type": "markdown",
   "metadata": {},
   "source": [
    "# Model 9 \n",
    "* lets check  the performance of the model with padding = 'same'"
   ]
  },
  {
   "cell_type": "code",
   "execution_count": 2,
   "metadata": {},
   "outputs": [
    {
     "name": "stdout",
     "output_type": "stream",
     "text": [
      "WARNING:tensorflow:From C:\\Users\\Dhanajayan\\Anaconda3\\lib\\site-packages\\tensorflow\\python\\framework\\op_def_library.py:263: colocate_with (from tensorflow.python.framework.ops) is deprecated and will be removed in a future version.\n",
      "Instructions for updating:\n",
      "Colocations handled automatically by placer.\n",
      "_________________________________________________________________\n",
      "Layer (type)                 Output Shape              Param #   \n",
      "=================================================================\n",
      "conv2d_1 (Conv2D)            (None, 32, 32, 64)        1792      \n",
      "_________________________________________________________________\n",
      "conv2d_2 (Conv2D)            (None, 32, 32, 64)        36928     \n",
      "_________________________________________________________________\n",
      "max_pooling2d_1 (MaxPooling2 (None, 16, 16, 64)        0         \n",
      "_________________________________________________________________\n",
      "conv2d_3 (Conv2D)            (None, 16, 16, 64)        36928     \n",
      "_________________________________________________________________\n",
      "conv2d_4 (Conv2D)            (None, 16, 16, 64)        36928     \n",
      "_________________________________________________________________\n",
      "max_pooling2d_2 (MaxPooling2 (None, 8, 8, 64)          0         \n",
      "_________________________________________________________________\n",
      "conv2d_5 (Conv2D)            (None, 8, 8, 64)          36928     \n",
      "_________________________________________________________________\n",
      "max_pooling2d_3 (MaxPooling2 (None, 4, 4, 64)          0         \n",
      "_________________________________________________________________\n",
      "flatten_1 (Flatten)          (None, 1024)              0         \n",
      "_________________________________________________________________\n",
      "dense_1 (Dense)              (None, 128)               131200    \n",
      "_________________________________________________________________\n",
      "dense_2 (Dense)              (None, 10)                1290      \n",
      "=================================================================\n",
      "Total params: 281,994\n",
      "Trainable params: 281,994\n",
      "Non-trainable params: 0\n",
      "_________________________________________________________________\n"
     ]
    }
   ],
   "source": [
    "model9 = Sequential()\n",
    "model9.add(Conv2D(64, (3, 3), activation='relu',kernel_initializer='he_normal',kernel_regularizer=regularizers.l2(0.001),padding = 'same', input_shape=(32, 32, 3)))\n",
    "model9.add(Conv2D(64, (3, 3), activation='relu',kernel_initializer='he_normal',kernel_regularizer=regularizers.l2(0.001),padding = 'same'))\n",
    "model9.add(MaxPooling2D((2, 2)))\n",
    "model9.add(Conv2D(64, (3, 3), activation='relu',kernel_initializer='he_normal',kernel_regularizer=regularizers.l2(0.001),padding = 'same'))\n",
    "model9.add(Conv2D(64, (3, 3), activation='relu',kernel_initializer='he_normal',kernel_regularizer=regularizers.l2(0.001),padding = 'same'))\n",
    "model9.add(MaxPooling2D((2, 2)))\n",
    "model9.add(Conv2D(64, (3, 3), activation='relu',kernel_initializer='he_normal',kernel_regularizer=regularizers.l2(0.001),padding = 'same'))\n",
    "model9.add(MaxPooling2D((2, 2)))\n",
    "model9.add(Flatten())\n",
    "model9.add(Dense(128, activation='relu'))\n",
    "model9.add(Dense(10, activation='softmax'))\n",
    "model9.summary()"
   ]
  },
  {
   "cell_type": "code",
   "execution_count": 3,
   "metadata": {},
   "outputs": [
    {
     "name": "stdout",
     "output_type": "stream",
     "text": [
      "WARNING:tensorflow:From C:\\Users\\Dhanajayan\\Anaconda3\\lib\\site-packages\\tensorflow\\python\\ops\\math_ops.py:3066: to_int32 (from tensorflow.python.ops.math_ops) is deprecated and will be removed in a future version.\n",
      "Instructions for updating:\n",
      "Use tf.cast instead.\n",
      "Epoch 1/10\n",
      "50000/50000 [==============================] - 422s 8ms/step - loss: 2.0384 - acc: 0.4528\n",
      "Epoch 2/10\n",
      "50000/50000 [==============================] - 395s 8ms/step - loss: 1.4851 - acc: 0.6282\n",
      "Epoch 3/10\n",
      "50000/50000 [==============================] - 368s 7ms/step - loss: 1.2553 - acc: 0.6990\n",
      "Epoch 4/10\n",
      "50000/50000 [==============================] - 407s 8ms/step - loss: 1.1193 - acc: 0.7405\n",
      "Epoch 5/10\n",
      "50000/50000 [==============================] - 344s 7ms/step - loss: 1.0284 - acc: 0.7650\n",
      "Epoch 6/10\n",
      "50000/50000 [==============================] - 351s 7ms/step - loss: 0.9592 - acc: 0.7822\n",
      "Epoch 7/10\n",
      "50000/50000 [==============================] - 352s 7ms/step - loss: 0.9070 - acc: 0.7973\n",
      "Epoch 8/10\n",
      "50000/50000 [==============================] - 346s 7ms/step - loss: 0.8611 - acc: 0.8110\n",
      "Epoch 9/10\n",
      "50000/50000 [==============================] - 343s 7ms/step - loss: 0.8220 - acc: 0.8226\n",
      "Epoch 10/10\n",
      "50000/50000 [==============================] - 345s 7ms/step - loss: 0.7903 - acc: 0.8313\n"
     ]
    },
    {
     "data": {
      "text/plain": [
       "<keras.callbacks.History at 0x278eeabd470>"
      ]
     },
     "execution_count": 3,
     "metadata": {},
     "output_type": "execute_result"
    }
   ],
   "source": [
    "epochs = 10\n",
    "sgd = SGD(lr=1e-2, momentum=0.9, decay=1e-2/epochs)\n",
    "model9.compile(optimizer=sgd, loss='categorical_crossentropy', metrics=['accuracy'])\n",
    "model9.fit(X_train,y_train,epochs=epochs,batch_size = 32)"
   ]
  },
  {
   "cell_type": "code",
   "execution_count": 4,
   "metadata": {},
   "outputs": [
    {
     "name": "stdout",
     "output_type": "stream",
     "text": [
      "10000/10000 [==============================] - 25s 3ms/step\n"
     ]
    },
    {
     "data": {
      "text/plain": [
       "0.7684"
      ]
     },
     "execution_count": 4,
     "metadata": {},
     "output_type": "execute_result"
    }
   ],
   "source": [
    "test_loss,test_acc = model9.evaluate(X_test,y_test)\n",
    "test_acc"
   ]
  },
  {
   "cell_type": "markdown",
   "metadata": {},
   "source": [
    "# Observation \n",
    "The padding  'same' parameter increased the efficieny comapared to default parameter"
   ]
  },
  {
   "cell_type": "markdown",
   "metadata": {},
   "source": [
    "## Model 10"
   ]
  },
  {
   "cell_type": "code",
   "execution_count": 7,
   "metadata": {},
   "outputs": [
    {
     "name": "stdout",
     "output_type": "stream",
     "text": [
      "_________________________________________________________________\n",
      "Layer (type)                 Output Shape              Param #   \n",
      "=================================================================\n",
      "conv2d_6 (Conv2D)            (None, 32, 32, 32)        896       \n",
      "_________________________________________________________________\n",
      "conv2d_7 (Conv2D)            (None, 32, 32, 32)        9248      \n",
      "_________________________________________________________________\n",
      "max_pooling2d_4 (MaxPooling2 (None, 16, 16, 32)        0         \n",
      "_________________________________________________________________\n",
      "conv2d_8 (Conv2D)            (None, 16, 16, 32)        9248      \n",
      "_________________________________________________________________\n",
      "conv2d_9 (Conv2D)            (None, 16, 16, 32)        9248      \n",
      "_________________________________________________________________\n",
      "max_pooling2d_5 (MaxPooling2 (None, 8, 8, 32)          0         \n",
      "_________________________________________________________________\n",
      "conv2d_10 (Conv2D)           (None, 8, 8, 32)          9248      \n",
      "_________________________________________________________________\n",
      "max_pooling2d_6 (MaxPooling2 (None, 4, 4, 32)          0         \n",
      "_________________________________________________________________\n",
      "flatten_2 (Flatten)          (None, 512)               0         \n",
      "_________________________________________________________________\n",
      "dense_3 (Dense)              (None, 64)                32832     \n",
      "_________________________________________________________________\n",
      "dense_4 (Dense)              (None, 10)                650       \n",
      "=================================================================\n",
      "Total params: 71,370\n",
      "Trainable params: 71,370\n",
      "Non-trainable params: 0\n",
      "_________________________________________________________________\n"
     ]
    }
   ],
   "source": [
    "model10= Sequential()\n",
    "model10.add(Conv2D(32, (3, 3), activation='relu',kernel_initializer='he_normal',kernel_regularizer=regularizers.l2(0.001),padding = 'same', input_shape=(32, 32, 3)))\n",
    "model10.add(Conv2D(32, (3, 3), activation='relu',kernel_initializer='he_normal',kernel_regularizer=regularizers.l2(0.001),padding = 'same'))\n",
    "model10.add(MaxPooling2D((2, 2)))\n",
    "model10.add(Conv2D(32, (3, 3), activation='relu',kernel_initializer='he_normal',kernel_regularizer=regularizers.l2(0.001),padding = 'same'))\n",
    "model10.add(Conv2D(32, (3, 3), activation='relu',kernel_initializer='he_normal',kernel_regularizer=regularizers.l2(0.001),padding = 'same'))\n",
    "model10.add(MaxPooling2D((2, 2)))\n",
    "model10.add(Conv2D(32, (3, 3), activation='relu',kernel_initializer='he_normal',kernel_regularizer=regularizers.l2(0.001),padding = 'same'))\n",
    "model10.add(MaxPooling2D((2, 2)))\n",
    "model10.add(Flatten())\n",
    "model10.add(Dense(64, activation='relu'))\n",
    "model10.add(Dense(10, activation='softmax'))\n",
    "model10.summary()"
   ]
  },
  {
   "cell_type": "code",
   "execution_count": 8,
   "metadata": {},
   "outputs": [
    {
     "name": "stdout",
     "output_type": "stream",
     "text": [
      "Epoch 1/10\n",
      "50000/50000 [==============================] - 105s 2ms/step - loss: 1.8693 - acc: 0.4162\n",
      "Epoch 2/10\n",
      "50000/50000 [==============================] - 128s 3ms/step - loss: 1.3882 - acc: 0.5856\n",
      "Epoch 3/10\n",
      "50000/50000 [==============================] - 119s 2ms/step - loss: 1.2047 - acc: 0.6505\n",
      "Epoch 4/10\n",
      "50000/50000 [==============================] - 123s 2ms/step - loss: 1.1013 - acc: 0.6837\n",
      "Epoch 5/10\n",
      "50000/50000 [==============================] - 103s 2ms/step - loss: 1.0321 - acc: 0.7052\n",
      "Epoch 6/10\n",
      "50000/50000 [==============================] - 104s 2ms/step - loss: 0.9793 - acc: 0.7227\n",
      "Epoch 7/10\n",
      "50000/50000 [==============================] - 103s 2ms/step - loss: 0.9378 - acc: 0.7338\n",
      "Epoch 8/10\n",
      "50000/50000 [==============================] - 107s 2ms/step - loss: 0.9058 - acc: 0.7461\n",
      "Epoch 9/10\n",
      "50000/50000 [==============================] - 105s 2ms/step - loss: 0.8788 - acc: 0.7544\n",
      "Epoch 10/10\n",
      "50000/50000 [==============================] - 104s 2ms/step - loss: 0.8549 - acc: 0.7627\n"
     ]
    },
    {
     "data": {
      "text/plain": [
       "<keras.callbacks.History at 0x27883ab76d8>"
      ]
     },
     "execution_count": 8,
     "metadata": {},
     "output_type": "execute_result"
    }
   ],
   "source": [
    "epochs = 10\n",
    "sgd = SGD(lr=1e-2, momentum=0.9, decay=1e-2/epochs)\n",
    "model10.compile(optimizer=sgd, loss='categorical_crossentropy', metrics=['accuracy'])\n",
    "model10.fit(X_train,y_train,epochs=epochs,batch_size = 32)"
   ]
  },
  {
   "cell_type": "code",
   "execution_count": 10,
   "metadata": {},
   "outputs": [
    {
     "name": "stdout",
     "output_type": "stream",
     "text": [
      "10000/10000 [==============================] - 10s 968us/step\n"
     ]
    },
    {
     "data": {
      "text/plain": [
       "0.7309"
      ]
     },
     "execution_count": 10,
     "metadata": {},
     "output_type": "execute_result"
    }
   ],
   "source": [
    "test_loss,test_acc = model10.evaluate(X_test,y_test)\n",
    "test_acc"
   ]
  },
  {
   "cell_type": "markdown",
   "metadata": {},
   "source": [
    "# Observation \n",
    "The filter size 32 in model 10 gives less accuracy than the model 9. \n",
    "Therefore will proceed with the model9 "
   ]
  },
  {
   "cell_type": "code",
   "execution_count": null,
   "metadata": {},
   "outputs": [],
   "source": []
  }
 ],
 "metadata": {
  "kernelspec": {
   "display_name": "Python 3",
   "language": "python",
   "name": "python3"
  },
  "language_info": {
   "codemirror_mode": {
    "name": "ipython",
    "version": 3
   },
   "file_extension": ".py",
   "mimetype": "text/x-python",
   "name": "python",
   "nbconvert_exporter": "python",
   "pygments_lexer": "ipython3",
   "version": "3.7.1"
  }
 },
 "nbformat": 4,
 "nbformat_minor": 2
}
